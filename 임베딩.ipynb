{
  "nbformat": 4,
  "nbformat_minor": 0,
  "metadata": {
    "colab": {
      "provenance": [],
      "gpuType": "T4",
      "authorship_tag": "ABX9TyOphoUyE158hYZQMm7AELQf"
    },
    "kernelspec": {
      "name": "python3",
      "display_name": "Python 3"
    },
    "language_info": {
      "name": "python"
    },
    "accelerator": "GPU"
  },
  "cells": [
    {
      "cell_type": "code",
      "source": [
        "!pip install konlpy"
      ],
      "metadata": {
        "colab": {
          "base_uri": "https://localhost:8080/"
        },
        "id": "VdYhF-XehXbN",
        "outputId": "4d5b47b8-9102-4786-8979-47a64b875d5f"
      },
      "execution_count": 5,
      "outputs": [
        {
          "output_type": "stream",
          "name": "stdout",
          "text": [
            "Collecting konlpy\n",
            "  Downloading konlpy-0.6.0-py2.py3-none-any.whl (19.4 MB)\n",
            "\u001b[2K     \u001b[90m━━━━━━━━━━━━━━━━━━━━━━━━━━━━━━━━━━━━━━━━\u001b[0m \u001b[32m19.4/19.4 MB\u001b[0m \u001b[31m51.0 MB/s\u001b[0m eta \u001b[36m0:00:00\u001b[0m\n",
            "\u001b[?25hCollecting JPype1>=0.7.0 (from konlpy)\n",
            "  Downloading JPype1-1.5.0-cp310-cp310-manylinux_2_17_x86_64.manylinux2014_x86_64.whl (488 kB)\n",
            "\u001b[2K     \u001b[90m━━━━━━━━━━━━━━━━━━━━━━━━━━━━━━━━━━━━━━━━\u001b[0m \u001b[32m488.6/488.6 kB\u001b[0m \u001b[31m57.5 MB/s\u001b[0m eta \u001b[36m0:00:00\u001b[0m\n",
            "\u001b[?25hRequirement already satisfied: lxml>=4.1.0 in /usr/local/lib/python3.10/dist-packages (from konlpy) (4.9.4)\n",
            "Requirement already satisfied: numpy>=1.6 in /usr/local/lib/python3.10/dist-packages (from konlpy) (1.23.5)\n",
            "Requirement already satisfied: packaging in /usr/local/lib/python3.10/dist-packages (from JPype1>=0.7.0->konlpy) (23.2)\n",
            "Installing collected packages: JPype1, konlpy\n",
            "Successfully installed JPype1-1.5.0 konlpy-0.6.0\n"
          ]
        }
      ]
    },
    {
      "cell_type": "code",
      "source": [
        "from google.colab import drive\n",
        "drive.mount('/content/drive')"
      ],
      "metadata": {
        "id": "klvoG8ZyuLF4"
      },
      "execution_count": null,
      "outputs": []
    },
    {
      "cell_type": "code",
      "source": [
        "# 파일 형식 확인\n",
        "import chardet\n",
        "\n",
        "with open('/content/drive/MyDrive/train_game.json', 'rb') as f:\n",
        "    result = chardet.detect(f.read())\n",
        "\n",
        "print(result['encoding'])"
      ],
      "metadata": {
        "colab": {
          "base_uri": "https://localhost:8080/"
        },
        "id": "TDlPCZfY7lQC",
        "outputId": "3210ae73-f707-46f1-9e71-48cdf75b95f6"
      },
      "execution_count": 5,
      "outputs": [
        {
          "output_type": "stream",
          "name": "stdout",
          "text": [
            "utf-8\n"
          ]
        }
      ]
    },
    {
      "cell_type": "code",
      "source": [
        "import json\n",
        "\n",
        "def open_json(file_path):\n",
        "    with open(file_path, 'r') as file:\n",
        "        data = json.load(file)\n",
        "    return data"
      ],
      "metadata": {
        "id": "P0JAIgD27plm"
      },
      "execution_count": 6,
      "outputs": []
    },
    {
      "cell_type": "code",
      "source": [
        "from gensim.models import Word2Vec\n",
        "from konlpy.tag import Komoran\n",
        "import time\n",
        "\n",
        "# 측정 시작\n",
        "start = time.time()\n",
        "\n",
        "# 리뷰 파일 읽어오기\n",
        "print('1) 말뭉치 데이터 읽기 시작')\n",
        "train = open_json(\"/content/drive/MyDrive/train_game.json\")\n",
        "print(len(train)) # 리뷰 데이터 전체 개수\n",
        "print('1) 말뭉치 데이터 읽기 완료: ', time.time() - start)"
      ],
      "metadata": {
        "colab": {
          "base_uri": "https://localhost:8080/"
        },
        "id": "ZIZzVhOF7vA5",
        "outputId": "53936edc-483b-455b-c209-c8b29a3ec3d9"
      },
      "execution_count": 8,
      "outputs": [
        {
          "output_type": "stream",
          "name": "stdout",
          "text": [
            "1) 말뭉치 데이터 읽기 시작\n",
            "863\n",
            "1) 말뭉치 데이터 읽기 완료:  0.11957478523254395\n"
          ]
        }
      ]
    },
    {
      "cell_type": "code",
      "source": [
        "# 문장단위로 명사만 추출해 학습 입력 데이터로 만듬\n",
        "print('2) 형태소에서 명사만 추출 시작')\n",
        "komoran = Komoran()\n",
        "docs = [komoran.nouns(sentence[\"sentence\"]) for sentence in train]\n",
        "print('2) 형태소에서 명사만 추출 완료: ', time.time() - start)"
      ],
      "metadata": {
        "colab": {
          "base_uri": "https://localhost:8080/"
        },
        "id": "pIcHsFMT73M4",
        "outputId": "875bb2a9-97a0-4bc9-8b27-c697e683d3a9"
      },
      "execution_count": 10,
      "outputs": [
        {
          "output_type": "stream",
          "name": "stdout",
          "text": [
            "2) 형태소에서 명사만 추출 시작\n",
            "2) 형태소에서 명사만 추출 완료:  41.92937183380127\n"
          ]
        }
      ]
    },
    {
      "cell_type": "code",
      "source": [
        "# word2vec 모델 학습\n",
        "print('3) word2vec 모델 학습 시작')\n",
        "model = Word2Vec(sentences=docs, vector_size=200, window=4, min_count=2, sg=1) # skip-gram\n",
        "print('3) word2vec 모델 학습 완료: ', time.time() - start)"
      ],
      "metadata": {
        "colab": {
          "base_uri": "https://localhost:8080/"
        },
        "id": "fm9m76fR79tN",
        "outputId": "c24ed40d-a2f0-421f-979e-a8999f883233"
      },
      "execution_count": 11,
      "outputs": [
        {
          "output_type": "stream",
          "name": "stdout",
          "text": [
            "3) word2vec 모델 학습 시작\n",
            "3) word2vec 모델 학습 완료:  52.89315843582153\n"
          ]
        }
      ]
    },
    {
      "cell_type": "code",
      "source": [
        "# 모델 저장\n",
        "print('4) 학습된 모델 저장 시작')\n",
        "model.save('nvmc.model')\n",
        "print('4) 학습된 모델 저장 완료: ', time.time() - start)\n",
        "\n",
        "# 학습된 말뭉치 개수, 코퍼스 내 전체 단어 개수\n",
        "print(\"corpus_count : \", model.corpus_count)\n",
        "print(\"corpus_total_words : \", model.corpus_total_words)"
      ],
      "metadata": {
        "colab": {
          "base_uri": "https://localhost:8080/"
        },
        "id": "VSTZU9LY8AHg",
        "outputId": "46d7bbdc-63e4-4786-fa2a-382445b77063"
      },
      "execution_count": 12,
      "outputs": [
        {
          "output_type": "stream",
          "name": "stdout",
          "text": [
            "4) 학습된 모델 저장 시작\n",
            "4) 학습된 모델 저장 완료:  62.355417013168335\n",
            "corpus_count :  863\n",
            "corpus_total_words :  7576\n"
          ]
        }
      ]
    },
    {
      "cell_type": "code",
      "source": [
        "model = Word2Vec.load('nvmc.model')\n",
        "print(model.wv.most_similar(\"퀘스트\", topn = 5))\n",
        "print(model.wv.most_similar(\"나이트\", topn = 5))"
      ],
      "metadata": {
        "colab": {
          "base_uri": "https://localhost:8080/"
        },
        "id": "A23NCueF8HLQ",
        "outputId": "d16723df-5e6e-486b-b1bd-6cf73b45a099"
      },
      "execution_count": 15,
      "outputs": [
        {
          "output_type": "stream",
          "name": "stdout",
          "text": [
            "[('거', 0.7553879022598267), ('때', 0.72751384973526), ('스키', 0.7222560048103333), ('것', 0.7182260155677795), ('드', 0.7125344276428223)]\n",
            "[('주문', 0.46636277437210083), ('쯤', 0.41791871190071106), ('레', 0.4165864884853363), ('드', 0.4121136963367462), ('거', 0.40452924370765686)]\n"
          ]
        }
      ]
    }
  ]
}