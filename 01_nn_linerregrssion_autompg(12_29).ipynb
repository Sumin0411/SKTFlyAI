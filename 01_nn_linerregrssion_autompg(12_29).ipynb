{
  "nbformat": 4,
  "nbformat_minor": 0,
  "metadata": {
    "colab": {
      "provenance": [],
      "authorship_tag": "ABX9TyNfCv9Q7WdHeTUF3hwe1atW",
      "include_colab_link": true
    },
    "kernelspec": {
      "name": "python3",
      "display_name": "Python 3"
    },
    "language_info": {
      "name": "python"
    }
  },
  "cells": [
    {
      "cell_type": "markdown",
      "metadata": {
        "id": "view-in-github",
        "colab_type": "text"
      },
      "source": [
        "<a href=\"https://colab.research.google.com/github/Sumin0411/SKTFlyAI/blob/main/01_nn_linerregrssion_autompg(12_29).ipynb\" target=\"_parent\"><img src=\"https://colab.research.google.com/assets/colab-badge.svg\" alt=\"Open In Colab\"/></a>"
      ]
    },
    {
      "cell_type": "markdown",
      "source": [
        "### 뉴럴 네트워크 다중 선형회귀\n",
        "* auto-mpg dataset"
      ],
      "metadata": {
        "id": "xDf21daMc2VD"
      }
    },
    {
      "cell_type": "code",
      "execution_count": 1,
      "metadata": {
        "id": "TUBZgn-Ycwmb"
      },
      "outputs": [],
      "source": [
        "import pandas as pd\n",
        "import numpy as np\n",
        "import matplotlib.pyplot as plt\n",
        "import seaborn as sns\n",
        "import tensorflow as tf"
      ]
    },
    {
      "cell_type": "markdown",
      "source": [
        "### 1. 데이터 준비"
      ],
      "metadata": {
        "id": "2gMxY3aOdM7J"
      }
    },
    {
      "cell_type": "code",
      "source": [
        "# !wget https://raw.githubusercontent.com/devdio/datasets/main/auto-mpg.csv"
      ],
      "metadata": {
        "colab": {
          "base_uri": "https://localhost:8080/"
        },
        "id": "esNPw3BQdDE8",
        "outputId": "c521917f-ba2e-4a2f-c0ae-c9ca56f77691"
      },
      "execution_count": 2,
      "outputs": [
        {
          "output_type": "stream",
          "name": "stdout",
          "text": [
            "--2023-12-31 05:59:20--  https://raw.githubusercontent.com/devdio/datasets/main/auto-mpg.csv\n",
            "Resolving raw.githubusercontent.com (raw.githubusercontent.com)... 185.199.108.133, 185.199.109.133, 185.199.110.133, ...\n",
            "Connecting to raw.githubusercontent.com (raw.githubusercontent.com)|185.199.108.133|:443... connected.\n",
            "HTTP request sent, awaiting response... 200 OK\n",
            "Length: 18131 (18K) [text/plain]\n",
            "Saving to: ‘auto-mpg.csv’\n",
            "\n",
            "auto-mpg.csv        100%[===================>]  17.71K  --.-KB/s    in 0.004s  \n",
            "\n",
            "2023-12-31 05:59:20 (4.24 MB/s) - ‘auto-mpg.csv’ saved [18131/18131]\n",
            "\n"
          ]
        }
      ]
    },
    {
      "cell_type": "code",
      "source": [
        "mpg = pd.read_csv('auto-mpg.csv', na_values=['?', '-'])\n",
        "mpg.shape"
      ],
      "metadata": {
        "colab": {
          "base_uri": "https://localhost:8080/"
        },
        "id": "KMskGmSxdRjV",
        "outputId": "dd8c944a-865b-49d4-bc50-73b904ea70f3"
      },
      "execution_count": 3,
      "outputs": [
        {
          "output_type": "execute_result",
          "data": {
            "text/plain": [
              "(398, 9)"
            ]
          },
          "metadata": {},
          "execution_count": 3
        }
      ]
    },
    {
      "cell_type": "code",
      "source": [
        "df = mpg.copy()\n",
        "df.head()"
      ],
      "metadata": {
        "colab": {
          "base_uri": "https://localhost:8080/",
          "height": 204
        },
        "id": "6lwdszRodRgj",
        "outputId": "fc04ea09-845c-462e-a926-4a1d53859b9f"
      },
      "execution_count": 4,
      "outputs": [
        {
          "output_type": "execute_result",
          "data": {
            "text/plain": [
              "    mpg  cylinders  displacement  horsepower  weight  acceleration  \\\n",
              "0  18.0          8         307.0       130.0    3504          12.0   \n",
              "1  15.0          8         350.0       165.0    3693          11.5   \n",
              "2  18.0          8         318.0       150.0    3436          11.0   \n",
              "3  16.0          8         304.0       150.0    3433          12.0   \n",
              "4  17.0          8         302.0       140.0    3449          10.5   \n",
              "\n",
              "   model year  origin                   car name  \n",
              "0          70       1  chevrolet chevelle malibu  \n",
              "1          70       1          buick skylark 320  \n",
              "2          70       1         plymouth satellite  \n",
              "3          70       1              amc rebel sst  \n",
              "4          70       1                ford torino  "
            ],
            "text/html": [
              "\n",
              "  <div id=\"df-3102121f-d7e1-46f1-b356-bb454894bb03\" class=\"colab-df-container\">\n",
              "    <div>\n",
              "<style scoped>\n",
              "    .dataframe tbody tr th:only-of-type {\n",
              "        vertical-align: middle;\n",
              "    }\n",
              "\n",
              "    .dataframe tbody tr th {\n",
              "        vertical-align: top;\n",
              "    }\n",
              "\n",
              "    .dataframe thead th {\n",
              "        text-align: right;\n",
              "    }\n",
              "</style>\n",
              "<table border=\"1\" class=\"dataframe\">\n",
              "  <thead>\n",
              "    <tr style=\"text-align: right;\">\n",
              "      <th></th>\n",
              "      <th>mpg</th>\n",
              "      <th>cylinders</th>\n",
              "      <th>displacement</th>\n",
              "      <th>horsepower</th>\n",
              "      <th>weight</th>\n",
              "      <th>acceleration</th>\n",
              "      <th>model year</th>\n",
              "      <th>origin</th>\n",
              "      <th>car name</th>\n",
              "    </tr>\n",
              "  </thead>\n",
              "  <tbody>\n",
              "    <tr>\n",
              "      <th>0</th>\n",
              "      <td>18.0</td>\n",
              "      <td>8</td>\n",
              "      <td>307.0</td>\n",
              "      <td>130.0</td>\n",
              "      <td>3504</td>\n",
              "      <td>12.0</td>\n",
              "      <td>70</td>\n",
              "      <td>1</td>\n",
              "      <td>chevrolet chevelle malibu</td>\n",
              "    </tr>\n",
              "    <tr>\n",
              "      <th>1</th>\n",
              "      <td>15.0</td>\n",
              "      <td>8</td>\n",
              "      <td>350.0</td>\n",
              "      <td>165.0</td>\n",
              "      <td>3693</td>\n",
              "      <td>11.5</td>\n",
              "      <td>70</td>\n",
              "      <td>1</td>\n",
              "      <td>buick skylark 320</td>\n",
              "    </tr>\n",
              "    <tr>\n",
              "      <th>2</th>\n",
              "      <td>18.0</td>\n",
              "      <td>8</td>\n",
              "      <td>318.0</td>\n",
              "      <td>150.0</td>\n",
              "      <td>3436</td>\n",
              "      <td>11.0</td>\n",
              "      <td>70</td>\n",
              "      <td>1</td>\n",
              "      <td>plymouth satellite</td>\n",
              "    </tr>\n",
              "    <tr>\n",
              "      <th>3</th>\n",
              "      <td>16.0</td>\n",
              "      <td>8</td>\n",
              "      <td>304.0</td>\n",
              "      <td>150.0</td>\n",
              "      <td>3433</td>\n",
              "      <td>12.0</td>\n",
              "      <td>70</td>\n",
              "      <td>1</td>\n",
              "      <td>amc rebel sst</td>\n",
              "    </tr>\n",
              "    <tr>\n",
              "      <th>4</th>\n",
              "      <td>17.0</td>\n",
              "      <td>8</td>\n",
              "      <td>302.0</td>\n",
              "      <td>140.0</td>\n",
              "      <td>3449</td>\n",
              "      <td>10.5</td>\n",
              "      <td>70</td>\n",
              "      <td>1</td>\n",
              "      <td>ford torino</td>\n",
              "    </tr>\n",
              "  </tbody>\n",
              "</table>\n",
              "</div>\n",
              "    <div class=\"colab-df-buttons\">\n",
              "\n",
              "  <div class=\"colab-df-container\">\n",
              "    <button class=\"colab-df-convert\" onclick=\"convertToInteractive('df-3102121f-d7e1-46f1-b356-bb454894bb03')\"\n",
              "            title=\"Convert this dataframe to an interactive table.\"\n",
              "            style=\"display:none;\">\n",
              "\n",
              "  <svg xmlns=\"http://www.w3.org/2000/svg\" height=\"24px\" viewBox=\"0 -960 960 960\">\n",
              "    <path d=\"M120-120v-720h720v720H120Zm60-500h600v-160H180v160Zm220 220h160v-160H400v160Zm0 220h160v-160H400v160ZM180-400h160v-160H180v160Zm440 0h160v-160H620v160ZM180-180h160v-160H180v160Zm440 0h160v-160H620v160Z\"/>\n",
              "  </svg>\n",
              "    </button>\n",
              "\n",
              "  <style>\n",
              "    .colab-df-container {\n",
              "      display:flex;\n",
              "      gap: 12px;\n",
              "    }\n",
              "\n",
              "    .colab-df-convert {\n",
              "      background-color: #E8F0FE;\n",
              "      border: none;\n",
              "      border-radius: 50%;\n",
              "      cursor: pointer;\n",
              "      display: none;\n",
              "      fill: #1967D2;\n",
              "      height: 32px;\n",
              "      padding: 0 0 0 0;\n",
              "      width: 32px;\n",
              "    }\n",
              "\n",
              "    .colab-df-convert:hover {\n",
              "      background-color: #E2EBFA;\n",
              "      box-shadow: 0px 1px 2px rgba(60, 64, 67, 0.3), 0px 1px 3px 1px rgba(60, 64, 67, 0.15);\n",
              "      fill: #174EA6;\n",
              "    }\n",
              "\n",
              "    .colab-df-buttons div {\n",
              "      margin-bottom: 4px;\n",
              "    }\n",
              "\n",
              "    [theme=dark] .colab-df-convert {\n",
              "      background-color: #3B4455;\n",
              "      fill: #D2E3FC;\n",
              "    }\n",
              "\n",
              "    [theme=dark] .colab-df-convert:hover {\n",
              "      background-color: #434B5C;\n",
              "      box-shadow: 0px 1px 3px 1px rgba(0, 0, 0, 0.15);\n",
              "      filter: drop-shadow(0px 1px 2px rgba(0, 0, 0, 0.3));\n",
              "      fill: #FFFFFF;\n",
              "    }\n",
              "  </style>\n",
              "\n",
              "    <script>\n",
              "      const buttonEl =\n",
              "        document.querySelector('#df-3102121f-d7e1-46f1-b356-bb454894bb03 button.colab-df-convert');\n",
              "      buttonEl.style.display =\n",
              "        google.colab.kernel.accessAllowed ? 'block' : 'none';\n",
              "\n",
              "      async function convertToInteractive(key) {\n",
              "        const element = document.querySelector('#df-3102121f-d7e1-46f1-b356-bb454894bb03');\n",
              "        const dataTable =\n",
              "          await google.colab.kernel.invokeFunction('convertToInteractive',\n",
              "                                                    [key], {});\n",
              "        if (!dataTable) return;\n",
              "\n",
              "        const docLinkHtml = 'Like what you see? Visit the ' +\n",
              "          '<a target=\"_blank\" href=https://colab.research.google.com/notebooks/data_table.ipynb>data table notebook</a>'\n",
              "          + ' to learn more about interactive tables.';\n",
              "        element.innerHTML = '';\n",
              "        dataTable['output_type'] = 'display_data';\n",
              "        await google.colab.output.renderOutput(dataTable, element);\n",
              "        const docLink = document.createElement('div');\n",
              "        docLink.innerHTML = docLinkHtml;\n",
              "        element.appendChild(docLink);\n",
              "      }\n",
              "    </script>\n",
              "  </div>\n",
              "\n",
              "\n",
              "<div id=\"df-9509af86-68c1-4f51-b334-6ad1e5a25159\">\n",
              "  <button class=\"colab-df-quickchart\" onclick=\"quickchart('df-9509af86-68c1-4f51-b334-6ad1e5a25159')\"\n",
              "            title=\"Suggest charts\"\n",
              "            style=\"display:none;\">\n",
              "\n",
              "<svg xmlns=\"http://www.w3.org/2000/svg\" height=\"24px\"viewBox=\"0 0 24 24\"\n",
              "     width=\"24px\">\n",
              "    <g>\n",
              "        <path d=\"M19 3H5c-1.1 0-2 .9-2 2v14c0 1.1.9 2 2 2h14c1.1 0 2-.9 2-2V5c0-1.1-.9-2-2-2zM9 17H7v-7h2v7zm4 0h-2V7h2v10zm4 0h-2v-4h2v4z\"/>\n",
              "    </g>\n",
              "</svg>\n",
              "  </button>\n",
              "\n",
              "<style>\n",
              "  .colab-df-quickchart {\n",
              "      --bg-color: #E8F0FE;\n",
              "      --fill-color: #1967D2;\n",
              "      --hover-bg-color: #E2EBFA;\n",
              "      --hover-fill-color: #174EA6;\n",
              "      --disabled-fill-color: #AAA;\n",
              "      --disabled-bg-color: #DDD;\n",
              "  }\n",
              "\n",
              "  [theme=dark] .colab-df-quickchart {\n",
              "      --bg-color: #3B4455;\n",
              "      --fill-color: #D2E3FC;\n",
              "      --hover-bg-color: #434B5C;\n",
              "      --hover-fill-color: #FFFFFF;\n",
              "      --disabled-bg-color: #3B4455;\n",
              "      --disabled-fill-color: #666;\n",
              "  }\n",
              "\n",
              "  .colab-df-quickchart {\n",
              "    background-color: var(--bg-color);\n",
              "    border: none;\n",
              "    border-radius: 50%;\n",
              "    cursor: pointer;\n",
              "    display: none;\n",
              "    fill: var(--fill-color);\n",
              "    height: 32px;\n",
              "    padding: 0;\n",
              "    width: 32px;\n",
              "  }\n",
              "\n",
              "  .colab-df-quickchart:hover {\n",
              "    background-color: var(--hover-bg-color);\n",
              "    box-shadow: 0 1px 2px rgba(60, 64, 67, 0.3), 0 1px 3px 1px rgba(60, 64, 67, 0.15);\n",
              "    fill: var(--button-hover-fill-color);\n",
              "  }\n",
              "\n",
              "  .colab-df-quickchart-complete:disabled,\n",
              "  .colab-df-quickchart-complete:disabled:hover {\n",
              "    background-color: var(--disabled-bg-color);\n",
              "    fill: var(--disabled-fill-color);\n",
              "    box-shadow: none;\n",
              "  }\n",
              "\n",
              "  .colab-df-spinner {\n",
              "    border: 2px solid var(--fill-color);\n",
              "    border-color: transparent;\n",
              "    border-bottom-color: var(--fill-color);\n",
              "    animation:\n",
              "      spin 1s steps(1) infinite;\n",
              "  }\n",
              "\n",
              "  @keyframes spin {\n",
              "    0% {\n",
              "      border-color: transparent;\n",
              "      border-bottom-color: var(--fill-color);\n",
              "      border-left-color: var(--fill-color);\n",
              "    }\n",
              "    20% {\n",
              "      border-color: transparent;\n",
              "      border-left-color: var(--fill-color);\n",
              "      border-top-color: var(--fill-color);\n",
              "    }\n",
              "    30% {\n",
              "      border-color: transparent;\n",
              "      border-left-color: var(--fill-color);\n",
              "      border-top-color: var(--fill-color);\n",
              "      border-right-color: var(--fill-color);\n",
              "    }\n",
              "    40% {\n",
              "      border-color: transparent;\n",
              "      border-right-color: var(--fill-color);\n",
              "      border-top-color: var(--fill-color);\n",
              "    }\n",
              "    60% {\n",
              "      border-color: transparent;\n",
              "      border-right-color: var(--fill-color);\n",
              "    }\n",
              "    80% {\n",
              "      border-color: transparent;\n",
              "      border-right-color: var(--fill-color);\n",
              "      border-bottom-color: var(--fill-color);\n",
              "    }\n",
              "    90% {\n",
              "      border-color: transparent;\n",
              "      border-bottom-color: var(--fill-color);\n",
              "    }\n",
              "  }\n",
              "</style>\n",
              "\n",
              "  <script>\n",
              "    async function quickchart(key) {\n",
              "      const quickchartButtonEl =\n",
              "        document.querySelector('#' + key + ' button');\n",
              "      quickchartButtonEl.disabled = true;  // To prevent multiple clicks.\n",
              "      quickchartButtonEl.classList.add('colab-df-spinner');\n",
              "      try {\n",
              "        const charts = await google.colab.kernel.invokeFunction(\n",
              "            'suggestCharts', [key], {});\n",
              "      } catch (error) {\n",
              "        console.error('Error during call to suggestCharts:', error);\n",
              "      }\n",
              "      quickchartButtonEl.classList.remove('colab-df-spinner');\n",
              "      quickchartButtonEl.classList.add('colab-df-quickchart-complete');\n",
              "    }\n",
              "    (() => {\n",
              "      let quickchartButtonEl =\n",
              "        document.querySelector('#df-9509af86-68c1-4f51-b334-6ad1e5a25159 button');\n",
              "      quickchartButtonEl.style.display =\n",
              "        google.colab.kernel.accessAllowed ? 'block' : 'none';\n",
              "    })();\n",
              "  </script>\n",
              "</div>\n",
              "\n",
              "    </div>\n",
              "  </div>\n"
            ]
          },
          "metadata": {},
          "execution_count": 4
        }
      ]
    },
    {
      "cell_type": "code",
      "source": [
        "df.columns = [s.replace(' ', '-') for s in df.columns]"
      ],
      "metadata": {
        "id": "-zBumAoUdRd8"
      },
      "execution_count": 5,
      "outputs": []
    },
    {
      "cell_type": "code",
      "source": [
        "df.info()"
      ],
      "metadata": {
        "colab": {
          "base_uri": "https://localhost:8080/"
        },
        "id": "Ja5Rp_JJdROB",
        "outputId": "4149697e-f2ac-41d9-f68d-86674745e916"
      },
      "execution_count": 6,
      "outputs": [
        {
          "output_type": "stream",
          "name": "stdout",
          "text": [
            "<class 'pandas.core.frame.DataFrame'>\n",
            "RangeIndex: 398 entries, 0 to 397\n",
            "Data columns (total 9 columns):\n",
            " #   Column        Non-Null Count  Dtype  \n",
            "---  ------        --------------  -----  \n",
            " 0   mpg           398 non-null    float64\n",
            " 1   cylinders     398 non-null    int64  \n",
            " 2   displacement  398 non-null    float64\n",
            " 3   horsepower    392 non-null    float64\n",
            " 4   weight        398 non-null    int64  \n",
            " 5   acceleration  398 non-null    float64\n",
            " 6   model-year    398 non-null    int64  \n",
            " 7   origin        398 non-null    int64  \n",
            " 8   car-name      398 non-null    object \n",
            "dtypes: float64(4), int64(4), object(1)\n",
            "memory usage: 28.1+ KB\n"
          ]
        }
      ]
    },
    {
      "cell_type": "code",
      "source": [
        "df['horsepower'].unique()"
      ],
      "metadata": {
        "colab": {
          "base_uri": "https://localhost:8080/"
        },
        "id": "TDrt9kxSeGgy",
        "outputId": "8027cb0e-9d9f-4755-d93f-8cecf9b6996b"
      },
      "execution_count": 7,
      "outputs": [
        {
          "output_type": "execute_result",
          "data": {
            "text/plain": [
              "array([130., 165., 150., 140., 198., 220., 215., 225., 190., 170., 160.,\n",
              "        95.,  97.,  85.,  88.,  46.,  87.,  90., 113., 200., 210., 193.,\n",
              "        nan, 100., 105., 175., 153., 180., 110.,  72.,  86.,  70.,  76.,\n",
              "        65.,  69.,  60.,  80.,  54., 208., 155., 112.,  92., 145., 137.,\n",
              "       158., 167.,  94., 107., 230.,  49.,  75.,  91., 122.,  67.,  83.,\n",
              "        78.,  52.,  61.,  93., 148., 129.,  96.,  71.,  98., 115.,  53.,\n",
              "        81.,  79., 120., 152., 102., 108.,  68.,  58., 149.,  89.,  63.,\n",
              "        48.,  66., 139., 103., 125., 133., 138., 135., 142.,  77.,  62.,\n",
              "       132.,  84.,  64.,  74., 116.,  82.])"
            ]
          },
          "metadata": {},
          "execution_count": 7
        }
      ]
    },
    {
      "cell_type": "code",
      "source": [
        "df.describe().T"
      ],
      "metadata": {
        "colab": {
          "base_uri": "https://localhost:8080/",
          "height": 297
        },
        "id": "WQGntsfFeGeL",
        "outputId": "a8660cb2-220e-41bb-8947-31b5a8cc0bed"
      },
      "execution_count": 8,
      "outputs": [
        {
          "output_type": "execute_result",
          "data": {
            "text/plain": [
              "              count         mean         std     min       25%     50%  \\\n",
              "mpg           398.0    23.514573    7.815984     9.0    17.500    23.0   \n",
              "cylinders     398.0     5.454774    1.701004     3.0     4.000     4.0   \n",
              "displacement  398.0   193.425879  104.269838    68.0   104.250   148.5   \n",
              "horsepower    392.0   104.469388   38.491160    46.0    75.000    93.5   \n",
              "weight        398.0  2970.424623  846.841774  1613.0  2223.750  2803.5   \n",
              "acceleration  398.0    15.568090    2.757689     8.0    13.825    15.5   \n",
              "model-year    398.0    76.010050    3.697627    70.0    73.000    76.0   \n",
              "origin        398.0     1.572864    0.802055     1.0     1.000     1.0   \n",
              "\n",
              "                   75%     max  \n",
              "mpg             29.000    46.6  \n",
              "cylinders        8.000     8.0  \n",
              "displacement   262.000   455.0  \n",
              "horsepower     126.000   230.0  \n",
              "weight        3608.000  5140.0  \n",
              "acceleration    17.175    24.8  \n",
              "model-year      79.000    82.0  \n",
              "origin           2.000     3.0  "
            ],
            "text/html": [
              "\n",
              "  <div id=\"df-f96f5abc-028a-4346-8467-2cf3ef5d0381\" class=\"colab-df-container\">\n",
              "    <div>\n",
              "<style scoped>\n",
              "    .dataframe tbody tr th:only-of-type {\n",
              "        vertical-align: middle;\n",
              "    }\n",
              "\n",
              "    .dataframe tbody tr th {\n",
              "        vertical-align: top;\n",
              "    }\n",
              "\n",
              "    .dataframe thead th {\n",
              "        text-align: right;\n",
              "    }\n",
              "</style>\n",
              "<table border=\"1\" class=\"dataframe\">\n",
              "  <thead>\n",
              "    <tr style=\"text-align: right;\">\n",
              "      <th></th>\n",
              "      <th>count</th>\n",
              "      <th>mean</th>\n",
              "      <th>std</th>\n",
              "      <th>min</th>\n",
              "      <th>25%</th>\n",
              "      <th>50%</th>\n",
              "      <th>75%</th>\n",
              "      <th>max</th>\n",
              "    </tr>\n",
              "  </thead>\n",
              "  <tbody>\n",
              "    <tr>\n",
              "      <th>mpg</th>\n",
              "      <td>398.0</td>\n",
              "      <td>23.514573</td>\n",
              "      <td>7.815984</td>\n",
              "      <td>9.0</td>\n",
              "      <td>17.500</td>\n",
              "      <td>23.0</td>\n",
              "      <td>29.000</td>\n",
              "      <td>46.6</td>\n",
              "    </tr>\n",
              "    <tr>\n",
              "      <th>cylinders</th>\n",
              "      <td>398.0</td>\n",
              "      <td>5.454774</td>\n",
              "      <td>1.701004</td>\n",
              "      <td>3.0</td>\n",
              "      <td>4.000</td>\n",
              "      <td>4.0</td>\n",
              "      <td>8.000</td>\n",
              "      <td>8.0</td>\n",
              "    </tr>\n",
              "    <tr>\n",
              "      <th>displacement</th>\n",
              "      <td>398.0</td>\n",
              "      <td>193.425879</td>\n",
              "      <td>104.269838</td>\n",
              "      <td>68.0</td>\n",
              "      <td>104.250</td>\n",
              "      <td>148.5</td>\n",
              "      <td>262.000</td>\n",
              "      <td>455.0</td>\n",
              "    </tr>\n",
              "    <tr>\n",
              "      <th>horsepower</th>\n",
              "      <td>392.0</td>\n",
              "      <td>104.469388</td>\n",
              "      <td>38.491160</td>\n",
              "      <td>46.0</td>\n",
              "      <td>75.000</td>\n",
              "      <td>93.5</td>\n",
              "      <td>126.000</td>\n",
              "      <td>230.0</td>\n",
              "    </tr>\n",
              "    <tr>\n",
              "      <th>weight</th>\n",
              "      <td>398.0</td>\n",
              "      <td>2970.424623</td>\n",
              "      <td>846.841774</td>\n",
              "      <td>1613.0</td>\n",
              "      <td>2223.750</td>\n",
              "      <td>2803.5</td>\n",
              "      <td>3608.000</td>\n",
              "      <td>5140.0</td>\n",
              "    </tr>\n",
              "    <tr>\n",
              "      <th>acceleration</th>\n",
              "      <td>398.0</td>\n",
              "      <td>15.568090</td>\n",
              "      <td>2.757689</td>\n",
              "      <td>8.0</td>\n",
              "      <td>13.825</td>\n",
              "      <td>15.5</td>\n",
              "      <td>17.175</td>\n",
              "      <td>24.8</td>\n",
              "    </tr>\n",
              "    <tr>\n",
              "      <th>model-year</th>\n",
              "      <td>398.0</td>\n",
              "      <td>76.010050</td>\n",
              "      <td>3.697627</td>\n",
              "      <td>70.0</td>\n",
              "      <td>73.000</td>\n",
              "      <td>76.0</td>\n",
              "      <td>79.000</td>\n",
              "      <td>82.0</td>\n",
              "    </tr>\n",
              "    <tr>\n",
              "      <th>origin</th>\n",
              "      <td>398.0</td>\n",
              "      <td>1.572864</td>\n",
              "      <td>0.802055</td>\n",
              "      <td>1.0</td>\n",
              "      <td>1.000</td>\n",
              "      <td>1.0</td>\n",
              "      <td>2.000</td>\n",
              "      <td>3.0</td>\n",
              "    </tr>\n",
              "  </tbody>\n",
              "</table>\n",
              "</div>\n",
              "    <div class=\"colab-df-buttons\">\n",
              "\n",
              "  <div class=\"colab-df-container\">\n",
              "    <button class=\"colab-df-convert\" onclick=\"convertToInteractive('df-f96f5abc-028a-4346-8467-2cf3ef5d0381')\"\n",
              "            title=\"Convert this dataframe to an interactive table.\"\n",
              "            style=\"display:none;\">\n",
              "\n",
              "  <svg xmlns=\"http://www.w3.org/2000/svg\" height=\"24px\" viewBox=\"0 -960 960 960\">\n",
              "    <path d=\"M120-120v-720h720v720H120Zm60-500h600v-160H180v160Zm220 220h160v-160H400v160Zm0 220h160v-160H400v160ZM180-400h160v-160H180v160Zm440 0h160v-160H620v160ZM180-180h160v-160H180v160Zm440 0h160v-160H620v160Z\"/>\n",
              "  </svg>\n",
              "    </button>\n",
              "\n",
              "  <style>\n",
              "    .colab-df-container {\n",
              "      display:flex;\n",
              "      gap: 12px;\n",
              "    }\n",
              "\n",
              "    .colab-df-convert {\n",
              "      background-color: #E8F0FE;\n",
              "      border: none;\n",
              "      border-radius: 50%;\n",
              "      cursor: pointer;\n",
              "      display: none;\n",
              "      fill: #1967D2;\n",
              "      height: 32px;\n",
              "      padding: 0 0 0 0;\n",
              "      width: 32px;\n",
              "    }\n",
              "\n",
              "    .colab-df-convert:hover {\n",
              "      background-color: #E2EBFA;\n",
              "      box-shadow: 0px 1px 2px rgba(60, 64, 67, 0.3), 0px 1px 3px 1px rgba(60, 64, 67, 0.15);\n",
              "      fill: #174EA6;\n",
              "    }\n",
              "\n",
              "    .colab-df-buttons div {\n",
              "      margin-bottom: 4px;\n",
              "    }\n",
              "\n",
              "    [theme=dark] .colab-df-convert {\n",
              "      background-color: #3B4455;\n",
              "      fill: #D2E3FC;\n",
              "    }\n",
              "\n",
              "    [theme=dark] .colab-df-convert:hover {\n",
              "      background-color: #434B5C;\n",
              "      box-shadow: 0px 1px 3px 1px rgba(0, 0, 0, 0.15);\n",
              "      filter: drop-shadow(0px 1px 2px rgba(0, 0, 0, 0.3));\n",
              "      fill: #FFFFFF;\n",
              "    }\n",
              "  </style>\n",
              "\n",
              "    <script>\n",
              "      const buttonEl =\n",
              "        document.querySelector('#df-f96f5abc-028a-4346-8467-2cf3ef5d0381 button.colab-df-convert');\n",
              "      buttonEl.style.display =\n",
              "        google.colab.kernel.accessAllowed ? 'block' : 'none';\n",
              "\n",
              "      async function convertToInteractive(key) {\n",
              "        const element = document.querySelector('#df-f96f5abc-028a-4346-8467-2cf3ef5d0381');\n",
              "        const dataTable =\n",
              "          await google.colab.kernel.invokeFunction('convertToInteractive',\n",
              "                                                    [key], {});\n",
              "        if (!dataTable) return;\n",
              "\n",
              "        const docLinkHtml = 'Like what you see? Visit the ' +\n",
              "          '<a target=\"_blank\" href=https://colab.research.google.com/notebooks/data_table.ipynb>data table notebook</a>'\n",
              "          + ' to learn more about interactive tables.';\n",
              "        element.innerHTML = '';\n",
              "        dataTable['output_type'] = 'display_data';\n",
              "        await google.colab.output.renderOutput(dataTable, element);\n",
              "        const docLink = document.createElement('div');\n",
              "        docLink.innerHTML = docLinkHtml;\n",
              "        element.appendChild(docLink);\n",
              "      }\n",
              "    </script>\n",
              "  </div>\n",
              "\n",
              "\n",
              "<div id=\"df-ea412912-c4a7-43ee-b2fe-16e8a1e8c729\">\n",
              "  <button class=\"colab-df-quickchart\" onclick=\"quickchart('df-ea412912-c4a7-43ee-b2fe-16e8a1e8c729')\"\n",
              "            title=\"Suggest charts\"\n",
              "            style=\"display:none;\">\n",
              "\n",
              "<svg xmlns=\"http://www.w3.org/2000/svg\" height=\"24px\"viewBox=\"0 0 24 24\"\n",
              "     width=\"24px\">\n",
              "    <g>\n",
              "        <path d=\"M19 3H5c-1.1 0-2 .9-2 2v14c0 1.1.9 2 2 2h14c1.1 0 2-.9 2-2V5c0-1.1-.9-2-2-2zM9 17H7v-7h2v7zm4 0h-2V7h2v10zm4 0h-2v-4h2v4z\"/>\n",
              "    </g>\n",
              "</svg>\n",
              "  </button>\n",
              "\n",
              "<style>\n",
              "  .colab-df-quickchart {\n",
              "      --bg-color: #E8F0FE;\n",
              "      --fill-color: #1967D2;\n",
              "      --hover-bg-color: #E2EBFA;\n",
              "      --hover-fill-color: #174EA6;\n",
              "      --disabled-fill-color: #AAA;\n",
              "      --disabled-bg-color: #DDD;\n",
              "  }\n",
              "\n",
              "  [theme=dark] .colab-df-quickchart {\n",
              "      --bg-color: #3B4455;\n",
              "      --fill-color: #D2E3FC;\n",
              "      --hover-bg-color: #434B5C;\n",
              "      --hover-fill-color: #FFFFFF;\n",
              "      --disabled-bg-color: #3B4455;\n",
              "      --disabled-fill-color: #666;\n",
              "  }\n",
              "\n",
              "  .colab-df-quickchart {\n",
              "    background-color: var(--bg-color);\n",
              "    border: none;\n",
              "    border-radius: 50%;\n",
              "    cursor: pointer;\n",
              "    display: none;\n",
              "    fill: var(--fill-color);\n",
              "    height: 32px;\n",
              "    padding: 0;\n",
              "    width: 32px;\n",
              "  }\n",
              "\n",
              "  .colab-df-quickchart:hover {\n",
              "    background-color: var(--hover-bg-color);\n",
              "    box-shadow: 0 1px 2px rgba(60, 64, 67, 0.3), 0 1px 3px 1px rgba(60, 64, 67, 0.15);\n",
              "    fill: var(--button-hover-fill-color);\n",
              "  }\n",
              "\n",
              "  .colab-df-quickchart-complete:disabled,\n",
              "  .colab-df-quickchart-complete:disabled:hover {\n",
              "    background-color: var(--disabled-bg-color);\n",
              "    fill: var(--disabled-fill-color);\n",
              "    box-shadow: none;\n",
              "  }\n",
              "\n",
              "  .colab-df-spinner {\n",
              "    border: 2px solid var(--fill-color);\n",
              "    border-color: transparent;\n",
              "    border-bottom-color: var(--fill-color);\n",
              "    animation:\n",
              "      spin 1s steps(1) infinite;\n",
              "  }\n",
              "\n",
              "  @keyframes spin {\n",
              "    0% {\n",
              "      border-color: transparent;\n",
              "      border-bottom-color: var(--fill-color);\n",
              "      border-left-color: var(--fill-color);\n",
              "    }\n",
              "    20% {\n",
              "      border-color: transparent;\n",
              "      border-left-color: var(--fill-color);\n",
              "      border-top-color: var(--fill-color);\n",
              "    }\n",
              "    30% {\n",
              "      border-color: transparent;\n",
              "      border-left-color: var(--fill-color);\n",
              "      border-top-color: var(--fill-color);\n",
              "      border-right-color: var(--fill-color);\n",
              "    }\n",
              "    40% {\n",
              "      border-color: transparent;\n",
              "      border-right-color: var(--fill-color);\n",
              "      border-top-color: var(--fill-color);\n",
              "    }\n",
              "    60% {\n",
              "      border-color: transparent;\n",
              "      border-right-color: var(--fill-color);\n",
              "    }\n",
              "    80% {\n",
              "      border-color: transparent;\n",
              "      border-right-color: var(--fill-color);\n",
              "      border-bottom-color: var(--fill-color);\n",
              "    }\n",
              "    90% {\n",
              "      border-color: transparent;\n",
              "      border-bottom-color: var(--fill-color);\n",
              "    }\n",
              "  }\n",
              "</style>\n",
              "\n",
              "  <script>\n",
              "    async function quickchart(key) {\n",
              "      const quickchartButtonEl =\n",
              "        document.querySelector('#' + key + ' button');\n",
              "      quickchartButtonEl.disabled = true;  // To prevent multiple clicks.\n",
              "      quickchartButtonEl.classList.add('colab-df-spinner');\n",
              "      try {\n",
              "        const charts = await google.colab.kernel.invokeFunction(\n",
              "            'suggestCharts', [key], {});\n",
              "      } catch (error) {\n",
              "        console.error('Error during call to suggestCharts:', error);\n",
              "      }\n",
              "      quickchartButtonEl.classList.remove('colab-df-spinner');\n",
              "      quickchartButtonEl.classList.add('colab-df-quickchart-complete');\n",
              "    }\n",
              "    (() => {\n",
              "      let quickchartButtonEl =\n",
              "        document.querySelector('#df-ea412912-c4a7-43ee-b2fe-16e8a1e8c729 button');\n",
              "      quickchartButtonEl.style.display =\n",
              "        google.colab.kernel.accessAllowed ? 'block' : 'none';\n",
              "    })();\n",
              "  </script>\n",
              "</div>\n",
              "\n",
              "    </div>\n",
              "  </div>\n"
            ]
          },
          "metadata": {},
          "execution_count": 8
        }
      ]
    },
    {
      "cell_type": "code",
      "source": [
        "df.isna().sum(axis = 0)"
      ],
      "metadata": {
        "colab": {
          "base_uri": "https://localhost:8080/"
        },
        "id": "9RJoE2jQeGbb",
        "outputId": "abe4c38e-d138-4536-a07d-23252db97087"
      },
      "execution_count": 9,
      "outputs": [
        {
          "output_type": "execute_result",
          "data": {
            "text/plain": [
              "mpg             0\n",
              "cylinders       0\n",
              "displacement    0\n",
              "horsepower      6\n",
              "weight          0\n",
              "acceleration    0\n",
              "model-year      0\n",
              "origin          0\n",
              "car-name        0\n",
              "dtype: int64"
            ]
          },
          "metadata": {},
          "execution_count": 9
        }
      ]
    },
    {
      "cell_type": "markdown",
      "source": [
        "### 2. 테스트데이터 분리"
      ],
      "metadata": {
        "id": "XuiYyZ9Te_x3"
      }
    },
    {
      "cell_type": "code",
      "source": [
        "df.columns"
      ],
      "metadata": {
        "colab": {
          "base_uri": "https://localhost:8080/"
        },
        "id": "FPIqOj14eGYu",
        "outputId": "5e9f1658-9c93-48d8-b173-75424acbc406"
      },
      "execution_count": 11,
      "outputs": [
        {
          "output_type": "execute_result",
          "data": {
            "text/plain": [
              "Index(['mpg', 'cylinders', 'displacement', 'horsepower', 'weight',\n",
              "       'acceleration', 'model-year', 'origin', 'car-name'],\n",
              "      dtype='object')"
            ]
          },
          "metadata": {},
          "execution_count": 11
        }
      ]
    },
    {
      "cell_type": "code",
      "source": [
        "X = df.drop(['mpg', 'origin', 'car-name'], axis = 1)\n",
        "y = df['mpg']"
      ],
      "metadata": {
        "id": "gUB-HslCeGLm"
      },
      "execution_count": 13,
      "outputs": []
    },
    {
      "cell_type": "code",
      "source": [
        "from sklearn.model_selection import train_test_split\n",
        "\n",
        "X_train, X_test, y_train, y_test = train_test_split(X, y, test_size = 0.2, random_state = 42)\n",
        "X_train.shape, X_test.shape, y_train.shape, y_test.shape"
      ],
      "metadata": {
        "colab": {
          "base_uri": "https://localhost:8080/"
        },
        "id": "tKHwXiYNfFaF",
        "outputId": "4610b2a0-9a15-4860-bf31-81ce9eb2e9d6"
      },
      "execution_count": 14,
      "outputs": [
        {
          "output_type": "execute_result",
          "data": {
            "text/plain": [
              "((318, 6), (80, 6), (318,), (80,))"
            ]
          },
          "metadata": {},
          "execution_count": 14
        }
      ]
    },
    {
      "cell_type": "markdown",
      "source": [
        "### 3. 전처리\n",
        "* 결측치 삭제"
      ],
      "metadata": {
        "id": "7uhtLOSCjM2R"
      }
    },
    {
      "cell_type": "code",
      "source": [
        "X_train = X_train.dropna()\n",
        "y_train = y_train[X_train.index]\n",
        "\n",
        "X_train.shape, y_train.shape"
      ],
      "metadata": {
        "colab": {
          "base_uri": "https://localhost:8080/"
        },
        "id": "cRvXBFnOfFXn",
        "outputId": "7692d232-8411-4bb8-9472-7a6cd4f90d4c"
      },
      "execution_count": 15,
      "outputs": [
        {
          "output_type": "execute_result",
          "data": {
            "text/plain": [
              "((313, 6), (313,))"
            ]
          },
          "metadata": {},
          "execution_count": 15
        }
      ]
    },
    {
      "cell_type": "markdown",
      "source": [
        "* 스케일링"
      ],
      "metadata": {
        "id": "ie4Lw_7FjdNq"
      }
    },
    {
      "cell_type": "code",
      "source": [
        "from sklearn.preprocessing import StandardScaler\n",
        "\n",
        "scaler = StandardScaler()\n",
        "X_train_s = scaler.fit_transform(X_train)\n",
        "\n",
        "X_train_s"
      ],
      "metadata": {
        "colab": {
          "base_uri": "https://localhost:8080/"
        },
        "id": "WQi8PQv5fFVK",
        "outputId": "70e693a4-3f4d-47e5-943f-935a91b90ac9"
      },
      "execution_count": 16,
      "outputs": [
        {
          "output_type": "execute_result",
          "data": {
            "text/plain": [
              "array([[ 1.51040727,  1.07508267,  1.25238452,  0.54139086, -1.30971783,\n",
              "        -1.69540513],\n",
              "       [-0.86227768, -0.93225674, -0.40975295, -1.00783493, -0.40324852,\n",
              "        -1.69540513],\n",
              "       [-0.86227768, -0.99044049, -0.94592632, -1.13267661,  0.93832606,\n",
              "         1.6614434 ],\n",
              "       ...,\n",
              "       [-0.86227768, -0.57345694, -0.22209226, -0.55008211, -0.2944722 ,\n",
              "         0.54249389],\n",
              "       [-0.86227768, -1.00983508, -1.10677834, -1.1029524 ,  0.61199711,\n",
              "         1.38170602],\n",
              "       [-0.86227768, -0.93225674, -1.53571704, -1.22184924,  1.95357168,\n",
              "        -0.85619299]])"
            ]
          },
          "metadata": {},
          "execution_count": 16
        }
      ]
    },
    {
      "cell_type": "code",
      "source": [
        "y_train = y_train.values"
      ],
      "metadata": {
        "id": "3shZu15LfFSj"
      },
      "execution_count": 17,
      "outputs": []
    },
    {
      "cell_type": "markdown",
      "source": [
        "### 4. 모델 만들기"
      ],
      "metadata": {
        "id": "iNVrrGlrju_t"
      }
    },
    {
      "cell_type": "code",
      "source": [
        "from tensorflow import keras\n",
        "from keras import layers\n",
        "\n",
        "model = keras.Sequential([\n",
        "    layers.Dense(units = 6, activation = 'relu', input_shape = (6,)),\n",
        "    layers.Dense(units = 3, activation = 'relu'),\n",
        "    layers.Dense(units = 1)\n",
        "])"
      ],
      "metadata": {
        "id": "gBEkNW10fFQD"
      },
      "execution_count": 19,
      "outputs": []
    },
    {
      "cell_type": "code",
      "source": [
        "model.summary()"
      ],
      "metadata": {
        "colab": {
          "base_uri": "https://localhost:8080/"
        },
        "id": "D7VwzO5TfFNJ",
        "outputId": "4b87acec-7b60-4de2-86fb-7e3acdc1e248"
      },
      "execution_count": 20,
      "outputs": [
        {
          "output_type": "stream",
          "name": "stdout",
          "text": [
            "Model: \"sequential\"\n",
            "_________________________________________________________________\n",
            " Layer (type)                Output Shape              Param #   \n",
            "=================================================================\n",
            " dense (Dense)               (None, 6)                 42        \n",
            "                                                                 \n",
            " dense_1 (Dense)             (None, 3)                 21        \n",
            "                                                                 \n",
            " dense_2 (Dense)             (None, 1)                 4         \n",
            "                                                                 \n",
            "=================================================================\n",
            "Total params: 67 (268.00 Byte)\n",
            "Trainable params: 67 (268.00 Byte)\n",
            "Non-trainable params: 0 (0.00 Byte)\n",
            "_________________________________________________________________\n"
          ]
        }
      ]
    },
    {
      "cell_type": "markdown",
      "source": [
        "1) Model complie\n",
        "- 손실함수 결정\n",
        "- 옵티마이저(어떤 경사하강법을 쓸건지)\n",
        "- 매트릭스(MAE, MSE)\n"
      ],
      "metadata": {
        "id": "uTdW7sO1kPuZ"
      }
    },
    {
      "cell_type": "code",
      "source": [
        "model.compile(\n",
        "    loss = 'mse',\n",
        "    optimizer = 'adam',\n",
        "    metrics = ['mse', 'mae']\n",
        ")"
      ],
      "metadata": {
        "id": "0gmcO0Kikey1"
      },
      "execution_count": 22,
      "outputs": []
    },
    {
      "cell_type": "markdown",
      "source": [
        "* 학습"
      ],
      "metadata": {
        "id": "3jTphuYGkvkW"
      }
    },
    {
      "cell_type": "code",
      "source": [
        "EPOCHS = 80\n",
        "BATCH_SIZE = 16\n",
        "\n",
        "history = model.fit(\n",
        "    X_train_s, y_train,\n",
        "    batch_size = BATCH_SIZE,\n",
        "    epochs = EPOCHS,\n",
        "    verbose = 1\n",
        ")"
      ],
      "metadata": {
        "colab": {
          "base_uri": "https://localhost:8080/"
        },
        "id": "MaplHytikewY",
        "outputId": "040e31bf-a145-4438-efa7-6dc1a325d9c9"
      },
      "execution_count": 23,
      "outputs": [
        {
          "output_type": "stream",
          "name": "stdout",
          "text": [
            "Epoch 1/80\n",
            "20/20 [==============================] - 1s 3ms/step - loss: 572.4727 - mse: 572.4727 - mae: 22.7346\n",
            "Epoch 2/80\n",
            "20/20 [==============================] - 0s 2ms/step - loss: 560.5068 - mse: 560.5068 - mae: 22.5093\n",
            "Epoch 3/80\n",
            "20/20 [==============================] - 0s 3ms/step - loss: 547.4937 - mse: 547.4937 - mae: 22.2580\n",
            "Epoch 4/80\n",
            "20/20 [==============================] - 0s 3ms/step - loss: 532.7305 - mse: 532.7305 - mae: 21.9686\n",
            "Epoch 5/80\n",
            "20/20 [==============================] - 0s 3ms/step - loss: 516.2964 - mse: 516.2964 - mae: 21.6368\n",
            "Epoch 6/80\n",
            "20/20 [==============================] - 0s 2ms/step - loss: 496.9247 - mse: 496.9247 - mae: 21.2341\n",
            "Epoch 7/80\n",
            "20/20 [==============================] - 0s 2ms/step - loss: 474.6146 - mse: 474.6146 - mae: 20.7518\n",
            "Epoch 8/80\n",
            "20/20 [==============================] - 0s 2ms/step - loss: 448.6206 - mse: 448.6206 - mae: 20.1750\n",
            "Epoch 9/80\n",
            "20/20 [==============================] - 0s 2ms/step - loss: 418.4977 - mse: 418.4977 - mae: 19.4835\n",
            "Epoch 10/80\n",
            "20/20 [==============================] - 0s 3ms/step - loss: 386.0935 - mse: 386.0935 - mae: 18.6993\n",
            "Epoch 11/80\n",
            "20/20 [==============================] - 0s 2ms/step - loss: 350.9400 - mse: 350.9400 - mae: 17.7971\n",
            "Epoch 12/80\n",
            "20/20 [==============================] - 0s 2ms/step - loss: 313.9585 - mse: 313.9585 - mae: 16.8088\n",
            "Epoch 13/80\n",
            "20/20 [==============================] - 0s 3ms/step - loss: 276.3557 - mse: 276.3557 - mae: 15.7237\n",
            "Epoch 14/80\n",
            "20/20 [==============================] - 0s 2ms/step - loss: 240.0648 - mse: 240.0648 - mae: 14.5682\n",
            "Epoch 15/80\n",
            "20/20 [==============================] - 0s 2ms/step - loss: 204.1331 - mse: 204.1331 - mae: 13.3112\n",
            "Epoch 16/80\n",
            "20/20 [==============================] - 0s 2ms/step - loss: 172.2150 - mse: 172.2150 - mae: 12.0751\n",
            "Epoch 17/80\n",
            "20/20 [==============================] - 0s 3ms/step - loss: 144.4919 - mse: 144.4919 - mae: 10.8462\n",
            "Epoch 18/80\n",
            "20/20 [==============================] - 0s 3ms/step - loss: 121.2127 - mse: 121.2127 - mae: 9.7197\n",
            "Epoch 19/80\n",
            "20/20 [==============================] - 0s 2ms/step - loss: 102.9218 - mse: 102.9218 - mae: 8.7137\n",
            "Epoch 20/80\n",
            "20/20 [==============================] - 0s 3ms/step - loss: 88.9131 - mse: 88.9131 - mae: 7.8715\n",
            "Epoch 21/80\n",
            "20/20 [==============================] - 0s 3ms/step - loss: 79.0630 - mse: 79.0630 - mae: 7.2212\n",
            "Epoch 22/80\n",
            "20/20 [==============================] - 0s 3ms/step - loss: 72.1602 - mse: 72.1602 - mae: 6.7334\n",
            "Epoch 23/80\n",
            "20/20 [==============================] - 0s 3ms/step - loss: 67.6641 - mse: 67.6641 - mae: 6.4582\n",
            "Epoch 24/80\n",
            "20/20 [==============================] - 0s 2ms/step - loss: 64.5591 - mse: 64.5591 - mae: 6.2559\n",
            "Epoch 25/80\n",
            "20/20 [==============================] - 0s 2ms/step - loss: 62.3163 - mse: 62.3163 - mae: 6.1242\n",
            "Epoch 26/80\n",
            "20/20 [==============================] - 0s 2ms/step - loss: 60.5898 - mse: 60.5898 - mae: 6.0434\n",
            "Epoch 27/80\n",
            "20/20 [==============================] - 0s 3ms/step - loss: 59.1555 - mse: 59.1555 - mae: 5.9760\n",
            "Epoch 28/80\n",
            "20/20 [==============================] - 0s 2ms/step - loss: 57.8324 - mse: 57.8324 - mae: 5.9240\n",
            "Epoch 29/80\n",
            "20/20 [==============================] - 0s 3ms/step - loss: 56.6257 - mse: 56.6257 - mae: 5.8737\n",
            "Epoch 30/80\n",
            "20/20 [==============================] - 0s 3ms/step - loss: 55.3849 - mse: 55.3849 - mae: 5.8161\n",
            "Epoch 31/80\n",
            "20/20 [==============================] - 0s 2ms/step - loss: 54.2819 - mse: 54.2819 - mae: 5.7578\n",
            "Epoch 32/80\n",
            "20/20 [==============================] - 0s 2ms/step - loss: 53.2114 - mse: 53.2114 - mae: 5.7050\n",
            "Epoch 33/80\n",
            "20/20 [==============================] - 0s 3ms/step - loss: 52.0316 - mse: 52.0316 - mae: 5.6447\n",
            "Epoch 34/80\n",
            "20/20 [==============================] - 0s 3ms/step - loss: 50.9842 - mse: 50.9842 - mae: 5.5851\n",
            "Epoch 35/80\n",
            "20/20 [==============================] - 0s 2ms/step - loss: 49.8661 - mse: 49.8661 - mae: 5.5257\n",
            "Epoch 36/80\n",
            "20/20 [==============================] - 0s 2ms/step - loss: 48.8081 - mse: 48.8081 - mae: 5.4744\n",
            "Epoch 37/80\n",
            "20/20 [==============================] - 0s 2ms/step - loss: 47.6384 - mse: 47.6384 - mae: 5.4115\n",
            "Epoch 38/80\n",
            "20/20 [==============================] - 0s 2ms/step - loss: 46.5919 - mse: 46.5919 - mae: 5.3535\n",
            "Epoch 39/80\n",
            "20/20 [==============================] - 0s 2ms/step - loss: 45.5085 - mse: 45.5085 - mae: 5.2934\n",
            "Epoch 40/80\n",
            "20/20 [==============================] - 0s 2ms/step - loss: 44.4299 - mse: 44.4299 - mae: 5.2409\n",
            "Epoch 41/80\n",
            "20/20 [==============================] - 0s 2ms/step - loss: 43.3141 - mse: 43.3141 - mae: 5.1770\n",
            "Epoch 42/80\n",
            "20/20 [==============================] - 0s 2ms/step - loss: 42.2080 - mse: 42.2080 - mae: 5.1143\n",
            "Epoch 43/80\n",
            "20/20 [==============================] - 0s 2ms/step - loss: 41.1694 - mse: 41.1694 - mae: 5.0537\n",
            "Epoch 44/80\n",
            "20/20 [==============================] - 0s 3ms/step - loss: 40.1021 - mse: 40.1021 - mae: 4.9933\n",
            "Epoch 45/80\n",
            "20/20 [==============================] - 0s 2ms/step - loss: 39.0634 - mse: 39.0634 - mae: 4.9280\n",
            "Epoch 46/80\n",
            "20/20 [==============================] - 0s 3ms/step - loss: 37.9739 - mse: 37.9739 - mae: 4.8558\n",
            "Epoch 47/80\n",
            "20/20 [==============================] - 0s 2ms/step - loss: 36.9724 - mse: 36.9724 - mae: 4.7936\n",
            "Epoch 48/80\n",
            "20/20 [==============================] - 0s 2ms/step - loss: 35.9308 - mse: 35.9308 - mae: 4.7299\n",
            "Epoch 49/80\n",
            "20/20 [==============================] - 0s 2ms/step - loss: 34.9849 - mse: 34.9849 - mae: 4.6656\n",
            "Epoch 50/80\n",
            "20/20 [==============================] - 0s 2ms/step - loss: 34.0408 - mse: 34.0408 - mae: 4.6013\n",
            "Epoch 51/80\n",
            "20/20 [==============================] - 0s 3ms/step - loss: 33.0837 - mse: 33.0837 - mae: 4.5370\n",
            "Epoch 52/80\n",
            "20/20 [==============================] - 0s 2ms/step - loss: 32.1441 - mse: 32.1441 - mae: 4.4804\n",
            "Epoch 53/80\n",
            "20/20 [==============================] - 0s 2ms/step - loss: 31.1530 - mse: 31.1530 - mae: 4.4141\n",
            "Epoch 54/80\n",
            "20/20 [==============================] - 0s 2ms/step - loss: 30.2590 - mse: 30.2590 - mae: 4.3522\n",
            "Epoch 55/80\n",
            "20/20 [==============================] - 0s 3ms/step - loss: 29.3694 - mse: 29.3694 - mae: 4.2861\n",
            "Epoch 56/80\n",
            "20/20 [==============================] - 0s 2ms/step - loss: 28.4644 - mse: 28.4644 - mae: 4.2118\n",
            "Epoch 57/80\n",
            "20/20 [==============================] - 0s 2ms/step - loss: 27.5772 - mse: 27.5772 - mae: 4.1430\n",
            "Epoch 58/80\n",
            "20/20 [==============================] - 0s 2ms/step - loss: 26.7357 - mse: 26.7357 - mae: 4.0813\n",
            "Epoch 59/80\n",
            "20/20 [==============================] - 0s 2ms/step - loss: 25.9052 - mse: 25.9052 - mae: 4.0157\n",
            "Epoch 60/80\n",
            "20/20 [==============================] - 0s 2ms/step - loss: 25.0865 - mse: 25.0865 - mae: 3.9475\n",
            "Epoch 61/80\n",
            "20/20 [==============================] - 0s 2ms/step - loss: 24.2965 - mse: 24.2965 - mae: 3.8760\n",
            "Epoch 62/80\n",
            "20/20 [==============================] - 0s 2ms/step - loss: 23.5737 - mse: 23.5737 - mae: 3.8172\n",
            "Epoch 63/80\n",
            "20/20 [==============================] - 0s 2ms/step - loss: 22.7860 - mse: 22.7860 - mae: 3.7431\n",
            "Epoch 64/80\n",
            "20/20 [==============================] - 0s 2ms/step - loss: 22.0613 - mse: 22.0613 - mae: 3.6839\n",
            "Epoch 65/80\n",
            "20/20 [==============================] - 0s 2ms/step - loss: 21.4153 - mse: 21.4153 - mae: 3.6203\n",
            "Epoch 66/80\n",
            "20/20 [==============================] - 0s 2ms/step - loss: 20.6900 - mse: 20.6900 - mae: 3.5550\n",
            "Epoch 67/80\n",
            "20/20 [==============================] - 0s 2ms/step - loss: 19.9920 - mse: 19.9920 - mae: 3.4990\n",
            "Epoch 68/80\n",
            "20/20 [==============================] - 0s 2ms/step - loss: 19.4024 - mse: 19.4024 - mae: 3.4473\n",
            "Epoch 69/80\n",
            "20/20 [==============================] - 0s 3ms/step - loss: 18.7726 - mse: 18.7726 - mae: 3.3894\n",
            "Epoch 70/80\n",
            "20/20 [==============================] - 0s 4ms/step - loss: 18.1774 - mse: 18.1774 - mae: 3.3305\n",
            "Epoch 71/80\n",
            "20/20 [==============================] - 0s 2ms/step - loss: 17.6375 - mse: 17.6375 - mae: 3.2808\n",
            "Epoch 72/80\n",
            "20/20 [==============================] - 0s 2ms/step - loss: 17.1362 - mse: 17.1362 - mae: 3.2319\n",
            "Epoch 73/80\n",
            "20/20 [==============================] - 0s 2ms/step - loss: 16.6156 - mse: 16.6156 - mae: 3.1847\n",
            "Epoch 74/80\n",
            "20/20 [==============================] - 0s 2ms/step - loss: 16.1624 - mse: 16.1624 - mae: 3.1404\n",
            "Epoch 75/80\n",
            "20/20 [==============================] - 0s 2ms/step - loss: 15.7079 - mse: 15.7079 - mae: 3.0935\n",
            "Epoch 76/80\n",
            "20/20 [==============================] - 0s 2ms/step - loss: 15.2772 - mse: 15.2772 - mae: 3.0492\n",
            "Epoch 77/80\n",
            "20/20 [==============================] - 0s 2ms/step - loss: 14.8334 - mse: 14.8334 - mae: 3.0048\n",
            "Epoch 78/80\n",
            "20/20 [==============================] - 0s 2ms/step - loss: 14.4550 - mse: 14.4550 - mae: 2.9653\n",
            "Epoch 79/80\n",
            "20/20 [==============================] - 0s 2ms/step - loss: 14.1274 - mse: 14.1274 - mae: 2.9283\n",
            "Epoch 80/80\n",
            "20/20 [==============================] - 0s 2ms/step - loss: 13.7780 - mse: 13.7780 - mae: 2.8855\n"
          ]
        }
      ]
    },
    {
      "cell_type": "markdown",
      "source": [
        "### 5. 평가"
      ],
      "metadata": {
        "id": "-5DRPDyDmvZs"
      }
    },
    {
      "cell_type": "code",
      "source": [
        "hist = history.history\n",
        "epoch = history.epoch\n",
        "\n",
        "plt.plot(epoch, hist['loss'], label = 'loss')\n",
        "plt.show()"
      ],
      "metadata": {
        "colab": {
          "base_uri": "https://localhost:8080/",
          "height": 435
        },
        "id": "aS3Q9y_fket6",
        "outputId": "ab2452cc-5fd9-4756-8674-48c2f1fc344e"
      },
      "execution_count": 24,
      "outputs": [
        {
          "output_type": "display_data",
          "data": {
            "text/plain": [
              "<Figure size 640x480 with 1 Axes>"
            ],
            "image/png": "[encoded data removed]"
          },
          "metadata": {}
        }
      ]
    },
    {
      "cell_type": "markdown",
      "source": [
        "### 6.평가\n",
        "* 테스트데이터 전처리"
      ],
      "metadata": {
        "id": "PL2Slmxkm-jn"
      }
    },
    {
      "cell_type": "code",
      "source": [
        "X_test.isna().sum()"
      ],
      "metadata": {
        "colab": {
          "base_uri": "https://localhost:8080/"
        },
        "id": "kt1QgJgDkerb",
        "outputId": "f913689b-6ff3-4a2a-90f8-c78b18870356"
      },
      "execution_count": 25,
      "outputs": [
        {
          "output_type": "execute_result",
          "data": {
            "text/plain": [
              "cylinders       0\n",
              "displacement    0\n",
              "horsepower      1\n",
              "weight          0\n",
              "acceleration    0\n",
              "model-year      0\n",
              "dtype: int64"
            ]
          },
          "metadata": {},
          "execution_count": 25
        }
      ]
    },
    {
      "cell_type": "code",
      "source": [
        "X_test = X_test.dropna()\n",
        "y_test = y_test[X_test.index]\n",
        "\n",
        "X_test.shape, y_test.shape"
      ],
      "metadata": {
        "colab": {
          "base_uri": "https://localhost:8080/"
        },
        "id": "HDfFM7mxkeo8",
        "outputId": "4fa6ecf2-80a2-4460-e607-998109af495a"
      },
      "execution_count": 26,
      "outputs": [
        {
          "output_type": "execute_result",
          "data": {
            "text/plain": [
              "((79, 6), (79,))"
            ]
          },
          "metadata": {},
          "execution_count": 26
        }
      ]
    },
    {
      "cell_type": "code",
      "source": [
        "X_test_s = scaler.transform(X_test)\n",
        "y_test = y_test.value"
      ],
      "metadata": {
        "colab": {
          "base_uri": "https://localhost:8080/",
          "height": 310
        },
        "id": "h7TfqDh6nuoY",
        "outputId": "54d12d3b-84aa-4e04-b0e2-2a66d4349891"
      },
      "execution_count": 28,
      "outputs": [
        {
          "output_type": "error",
          "ename": "AttributeError",
          "evalue": "ignored",
          "traceback": [
            "\u001b[0;31m---------------------------------------------------------------------------\u001b[0m",
            "\u001b[0;31mAttributeError\u001b[0m                            Traceback (most recent call last)",
            "\u001b[0;32m<ipython-input-28-e60aac67c4de>\u001b[0m in \u001b[0;36m<cell line: 2>\u001b[0;34m()\u001b[0m\n\u001b[1;32m      1\u001b[0m \u001b[0mX_test_s\u001b[0m \u001b[0;34m=\u001b[0m \u001b[0mscaler\u001b[0m\u001b[0;34m.\u001b[0m\u001b[0mtransform\u001b[0m\u001b[0;34m(\u001b[0m\u001b[0mX_test\u001b[0m\u001b[0;34m)\u001b[0m\u001b[0;34m\u001b[0m\u001b[0;34m\u001b[0m\u001b[0m\n\u001b[0;32m----> 2\u001b[0;31m \u001b[0my_test\u001b[0m \u001b[0;34m=\u001b[0m \u001b[0my_test\u001b[0m\u001b[0;34m.\u001b[0m\u001b[0mvalue\u001b[0m\u001b[0;34m\u001b[0m\u001b[0;34m\u001b[0m\u001b[0m\n\u001b[0m",
            "\u001b[0;32m/usr/local/lib/python3.10/dist-packages/pandas/core/generic.py\u001b[0m in \u001b[0;36m__getattr__\u001b[0;34m(self, name)\u001b[0m\n\u001b[1;32m   5900\u001b[0m         ):\n\u001b[1;32m   5901\u001b[0m             \u001b[0;32mreturn\u001b[0m \u001b[0mself\u001b[0m\u001b[0;34m[\u001b[0m\u001b[0mname\u001b[0m\u001b[0;34m]\u001b[0m\u001b[0;34m\u001b[0m\u001b[0;34m\u001b[0m\u001b[0m\n\u001b[0;32m-> 5902\u001b[0;31m         \u001b[0;32mreturn\u001b[0m \u001b[0mobject\u001b[0m\u001b[0;34m.\u001b[0m\u001b[0m__getattribute__\u001b[0m\u001b[0;34m(\u001b[0m\u001b[0mself\u001b[0m\u001b[0;34m,\u001b[0m \u001b[0mname\u001b[0m\u001b[0;34m)\u001b[0m\u001b[0;34m\u001b[0m\u001b[0;34m\u001b[0m\u001b[0m\n\u001b[0m\u001b[1;32m   5903\u001b[0m \u001b[0;34m\u001b[0m\u001b[0m\n\u001b[1;32m   5904\u001b[0m     \u001b[0;32mdef\u001b[0m \u001b[0m__setattr__\u001b[0m\u001b[0;34m(\u001b[0m\u001b[0mself\u001b[0m\u001b[0;34m,\u001b[0m \u001b[0mname\u001b[0m\u001b[0;34m:\u001b[0m \u001b[0mstr\u001b[0m\u001b[0;34m,\u001b[0m \u001b[0mvalue\u001b[0m\u001b[0;34m)\u001b[0m \u001b[0;34m->\u001b[0m \u001b[0;32mNone\u001b[0m\u001b[0;34m:\u001b[0m\u001b[0;34m\u001b[0m\u001b[0;34m\u001b[0m\u001b[0m\n",
            "\u001b[0;31mAttributeError\u001b[0m: 'Series' object has no attribute 'value'"
          ]
        }
      ]
    },
    {
      "cell_type": "code",
      "source": [
        "y_pred = model.predict(X_test_s)"
      ],
      "metadata": {
        "colab": {
          "base_uri": "https://localhost:8080/"
        },
        "id": "2rcqBgnvkemU",
        "outputId": "86f71847-306c-4e22-df1d-b020d3b3e0c1"
      },
      "execution_count": 29,
      "outputs": [
        {
          "output_type": "stream",
          "name": "stdout",
          "text": [
            "3/3 [==============================] - 0s 4ms/step\n"
          ]
        }
      ]
    },
    {
      "cell_type": "code",
      "source": [
        "y_pred.shape"
      ],
      "metadata": {
        "colab": {
          "base_uri": "https://localhost:8080/"
        },
        "id": "GAy18Gs_keMj",
        "outputId": "e2af22cb-2c6a-4b99-8b0b-51d0a7019025"
      },
      "execution_count": 30,
      "outputs": [
        {
          "output_type": "execute_result",
          "data": {
            "text/plain": [
              "(79, 1)"
            ]
          },
          "metadata": {},
          "execution_count": 30
        }
      ]
    },
    {
      "cell_type": "code",
      "source": [
        "from sklearn.metrics import mean_squared_error\n",
        "\n",
        "mean_squared_error(y_test, y_pred)"
      ],
      "metadata": {
        "colab": {
          "base_uri": "https://localhost:8080/"
        },
        "id": "d8DbJvG-n0vU",
        "outputId": "c18a8355-f6bc-4f9a-fee5-ad4d52b864ef"
      },
      "execution_count": 31,
      "outputs": [
        {
          "output_type": "execute_result",
          "data": {
            "text/plain": [
              "12.61181979165531"
            ]
          },
          "metadata": {},
          "execution_count": 31
        }
      ]
    },
    {
      "cell_type": "code",
      "source": [
        "plt.scatter(y_test, y_pred)\n",
        "plt.xlabel('true')\n",
        "plt.ylabel('pred')\n",
        "plt.show()"
      ],
      "metadata": {
        "colab": {
          "base_uri": "https://localhost:8080/",
          "height": 449
        },
        "id": "D3y7cHcvn0s9",
        "outputId": "3add6a80-9ff5-4eff-a96f-57ed0ee64bbd"
      },
      "execution_count": 32,
      "outputs": [
        {
          "output_type": "display_data",
          "data": {
            "text/plain": [
              "<Figure size 640x480 with 1 Axes>"
            ],
            "image/png": "[encoded data removed]"
          },
          "metadata": {}
        }
      ]
    }
  ]
}