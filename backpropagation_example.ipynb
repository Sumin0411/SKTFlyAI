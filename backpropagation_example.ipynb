{
  "nbformat": 4,
  "nbformat_minor": 0,
  "metadata": {
    "colab": {
      "provenance": [],
      "authorship_tag": "ABX9TyPrrk0OPuDwP5erhAY7dAeP"
    },
    "kernelspec": {
      "name": "python3",
      "display_name": "Python 3"
    },
    "language_info": {
      "name": "python"
    }
  },
  "cells": [
    {
      "cell_type": "code",
      "source": [
        "import torch\n",
        "from torch.autograd import Variable\n",
        "\n",
        "# 변수 초기화\n",
        "x = Variable(torch.tensor(1., dtype=torch.float32), requires_grad=True)\n",
        "y = Variable(torch.tensor(1., dtype=torch.float32), requires_grad=True)\n",
        "\n",
        "# 옵티마이저 초기화\n",
        "optimizer = torch.optim.SGD(params=[x, y], lr=1e-3)\n",
        "\n",
        "EPOCHS = 100\n",
        "for epoch in range(EPOCHS):\n",
        "    # 함수 정의\n",
        "    f = (2 * x**2) + y**2 + torch.exp(4 * x * y)\n",
        "\n",
        "    # 기울기 초기화\n",
        "    optimizer.zero_grad()\n",
        "\n",
        "    # 역전파 및 가중치 업데이트\n",
        "    f.backward()\n",
        "    optimizer.step()\n",
        "\n",
        "# 최종 결과 출력\n",
        "print(x,y)\n",
        "print(f)"
      ],
      "metadata": {
        "colab": {
          "base_uri": "https://localhost:8080/"
        },
        "id": "qLRVCXOtYmjl",
        "outputId": "642042eb-2571-4818-c51a-5a09544760d0"
      },
      "execution_count": 11,
      "outputs": [
        {
          "output_type": "stream",
          "name": "stdout",
          "text": [
            "tensor(0.1835, requires_grad=True) tensor(0.2842, requires_grad=True)\n",
            "tensor(1.3868, grad_fn=<AddBackward0>)\n"
          ]
        }
      ]
    }
  ]
}