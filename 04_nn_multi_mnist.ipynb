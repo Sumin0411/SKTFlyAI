{
  "nbformat": 4,
  "nbformat_minor": 0,
  "metadata": {
    "colab": {
      "provenance": [],
      "include_colab_link": true
    },
    "kernelspec": {
      "name": "python3",
      "display_name": "Python 3"
    },
    "language_info": {
      "name": "python"
    }
  },
  "cells": [
    {
      "cell_type": "markdown",
      "metadata": {
        "id": "view-in-github",
        "colab_type": "text"
      },
      "source": [
        "<a href=\"https://colab.research.google.com/github/Sumin0411/SKTFlyAI/blob/main/04_nn_multi_mnist.ipynb\" target=\"_parent\"><img src=\"https://colab.research.google.com/assets/colab-badge.svg\" alt=\"Open In Colab\"/></a>"
      ]
    },
    {
      "cell_type": "markdown",
      "source": [
        "# 뉴럴네트워크 다중분류\n",
        "- mnist dataset"
      ],
      "metadata": {
        "id": "1VoK5juYfO8g"
      }
    },
    {
      "cell_type": "code",
      "source": [
        "import numpy as np\n",
        "import pandas as pd\n",
        "import matplotlib.pyplot as plt\n",
        "import tensorflow as tf\n",
        "from tensorflow import keras"
      ],
      "metadata": {
        "id": "RAWTjy7fh5lX"
      },
      "execution_count": 1,
      "outputs": []
    },
    {
      "cell_type": "markdown",
      "source": [
        "### 1.데이터준비"
      ],
      "metadata": {
        "id": "f9rYun-8iHGu"
      }
    },
    {
      "cell_type": "code",
      "source": [
        "from keras.datasets import mnist\n",
        "\n",
        "(X_train, y_train), (X_test, y_test) = mnist.load_data()\n",
        "\n",
        "print(X_train.shape, y_train.shape)\n",
        "print(X_test.shape, y_test.shape)"
      ],
      "metadata": {
        "colab": {
          "base_uri": "https://localhost:8080/"
        },
        "id": "SuROIn5DihSW",
        "outputId": "a72009ac-25fb-4514-ae26-871deb20e33c"
      },
      "execution_count": 2,
      "outputs": [
        {
          "output_type": "stream",
          "name": "stdout",
          "text": [
            "Downloading data from https://storage.googleapis.com/tensorflow/tf-keras-datasets/mnist.npz\n",
            "11490434/11490434 [==============================] - 0s 0us/step\n",
            "(60000, 28, 28) (60000,)\n",
            "(10000, 28, 28) (10000,)\n"
          ]
        }
      ]
    },
    {
      "cell_type": "code",
      "source": [
        "y_train[:20]"
      ],
      "metadata": {
        "colab": {
          "base_uri": "https://localhost:8080/"
        },
        "id": "xJfSAi2Fi-4p",
        "outputId": "039d5395-42c9-4662-d1a5-0b0cda0584c1"
      },
      "execution_count": 3,
      "outputs": [
        {
          "output_type": "execute_result",
          "data": {
            "text/plain": [
              "array([5, 0, 4, 1, 9, 2, 1, 3, 1, 4, 3, 5, 3, 6, 1, 7, 2, 8, 6, 9],\n",
              "      dtype=uint8)"
            ]
          },
          "metadata": {},
          "execution_count": 3
        }
      ]
    },
    {
      "cell_type": "code",
      "source": [
        "pd.Series(y_train).value_counts()"
      ],
      "metadata": {
        "colab": {
          "base_uri": "https://localhost:8080/"
        },
        "id": "S10bjhNPkToB",
        "outputId": "f5a7a773-0033-4b58-9707-baa3b60d4751"
      },
      "execution_count": 4,
      "outputs": [
        {
          "output_type": "execute_result",
          "data": {
            "text/plain": [
              "1    6742\n",
              "7    6265\n",
              "3    6131\n",
              "2    5958\n",
              "9    5949\n",
              "0    5923\n",
              "6    5918\n",
              "8    5851\n",
              "4    5842\n",
              "5    5421\n",
              "dtype: int64"
            ]
          },
          "metadata": {},
          "execution_count": 4
        }
      ]
    },
    {
      "cell_type": "code",
      "source": [
        "samples = np.random.randint(60000, size=16)\n",
        "samples"
      ],
      "metadata": {
        "colab": {
          "base_uri": "https://localhost:8080/"
        },
        "id": "SPrO9-TrklIj",
        "outputId": "96907bf0-79e2-4de2-d23c-0d6ba686a109"
      },
      "execution_count": 5,
      "outputs": [
        {
          "output_type": "execute_result",
          "data": {
            "text/plain": [
              "array([15372, 35616, 53011,  1776, 52446, 29220, 50252, 32012,  3108,\n",
              "       24499, 48094, 24390, 29278,  5895, 38893, 13236])"
            ]
          },
          "metadata": {},
          "execution_count": 5
        }
      ]
    },
    {
      "cell_type": "code",
      "source": [
        "plt.figure(figsize=(8, 8))\n",
        "for i, idx in enumerate(samples):\n",
        "  plt.subplot(4, 4, 1+i)\n",
        "  plt.imshow(X_train[idx], cmap='gray')\n",
        "  plt.axis('off')\n",
        "  plt.title(y_train[idx])\n",
        "plt.show()"
      ],
      "metadata": {
        "colab": {
          "base_uri": "https://localhost:8080/",
          "height": 675
        },
        "id": "K8gwAMF1k6-h",
        "outputId": "ec8e4da0-5002-456c-c6c5-0c2eeb72f80f"
      },
      "execution_count": 6,
      "outputs": [
        {
          "output_type": "display_data",
          "data": {
            "text/plain": [
              "<Figure size 800x800 with 16 Axes>"
            ],
            "image/png": "[encoded data removed]"
          },
          "metadata": {}
        }
      ]
    },
    {
      "cell_type": "markdown",
      "source": [
        "#### 검증데이터 분리"
      ],
      "metadata": {
        "id": "wm56q6swluJt"
      }
    },
    {
      "cell_type": "code",
      "source": [
        "from sklearn.model_selection import train_test_split\n",
        "\n",
        "X_train, X_val, y_train, y_val = train_test_split(X_train, y_train, test_size=0.2, random_state=42)\n",
        "\n",
        "X_train.shape, X_val.shape, y_train.shape, y_val.shape"
      ],
      "metadata": {
        "colab": {
          "base_uri": "https://localhost:8080/"
        },
        "id": "lYEdGtoSm1e_",
        "outputId": "dfb3214b-9bfe-42dd-ac01-4c763e40cfe9"
      },
      "execution_count": 7,
      "outputs": [
        {
          "output_type": "execute_result",
          "data": {
            "text/plain": [
              "((48000, 28, 28), (12000, 28, 28), (48000,), (12000,))"
            ]
          },
          "metadata": {},
          "execution_count": 7
        }
      ]
    },
    {
      "cell_type": "markdown",
      "source": [
        "#### 정규화\n",
        "- 최대 최소 정규화"
      ],
      "metadata": {
        "id": "YbI_2LzbneXs"
      }
    },
    {
      "cell_type": "code",
      "source": [
        "X_train_s = X_train.astype('float32')/255.\n",
        "X_val_s = X_val.astype('float32')/255."
      ],
      "metadata": {
        "id": "61uNi743oELI"
      },
      "execution_count": 8,
      "outputs": []
    },
    {
      "cell_type": "code",
      "source": [
        "np.max(X_train_s), np.min(X_train_s)"
      ],
      "metadata": {
        "colab": {
          "base_uri": "https://localhost:8080/"
        },
        "id": "9pO7XDiPo1AQ",
        "outputId": "78620fae-a7fa-4c95-a549-fa02f9e3200f"
      },
      "execution_count": 9,
      "outputs": [
        {
          "output_type": "execute_result",
          "data": {
            "text/plain": [
              "(1.0, 0.0)"
            ]
          },
          "metadata": {},
          "execution_count": 9
        }
      ]
    },
    {
      "cell_type": "markdown",
      "source": [
        "- 레이블(타겟)값 원핫인코딩"
      ],
      "metadata": {
        "id": "0RvOc6iso4FK"
      }
    },
    {
      "cell_type": "code",
      "source": [
        "from keras.utils import to_categorical\n",
        "\n",
        "y_train_o = to_categorical(y_train)\n",
        "y_val_o = to_categorical(y_val)\n",
        "\n",
        "y_train_o[:5]"
      ],
      "metadata": {
        "colab": {
          "base_uri": "https://localhost:8080/"
        },
        "id": "xES4_NUOo_r9",
        "outputId": "89b7b17e-367c-400e-98f7-a993433655a2"
      },
      "execution_count": 10,
      "outputs": [
        {
          "output_type": "execute_result",
          "data": {
            "text/plain": [
              "array([[0., 0., 0., 0., 0., 1., 0., 0., 0., 0.],\n",
              "       [1., 0., 0., 0., 0., 0., 0., 0., 0., 0.],\n",
              "       [0., 1., 0., 0., 0., 0., 0., 0., 0., 0.],\n",
              "       [0., 0., 0., 0., 0., 0., 1., 0., 0., 0.],\n",
              "       [0., 1., 0., 0., 0., 0., 0., 0., 0., 0.]], dtype=float32)"
            ]
          },
          "metadata": {},
          "execution_count": 10
        }
      ]
    },
    {
      "cell_type": "markdown",
      "source": [
        "- Flatten"
      ],
      "metadata": {
        "id": "ZBal5NHJpZ4z"
      }
    },
    {
      "cell_type": "code",
      "source": [
        "X_train_s = X_train_s.reshape(-1, 28*28)\n",
        "X_val_s = X_val_s.reshape(-1, 28*28)"
      ],
      "metadata": {
        "id": "tOy-9_5HqNXj"
      },
      "execution_count": 11,
      "outputs": []
    },
    {
      "cell_type": "markdown",
      "source": [
        "### 2.모델만들기"
      ],
      "metadata": {
        "id": "QaKZlKqxqcAm"
      }
    },
    {
      "cell_type": "code",
      "source": [
        "from keras import layers\n",
        "\n",
        "model = keras.Sequential([\n",
        "    layers.Dense(units=64, activation='relu', input_shape=(28*28, )),\n",
        "    layers.Dense(units=32, activation='relu'),\n",
        "    layers.Dense(units=10, activation='softmax')\n",
        "])"
      ],
      "metadata": {
        "id": "2Y9j2-KAqt-t"
      },
      "execution_count": 12,
      "outputs": []
    },
    {
      "cell_type": "code",
      "source": [
        "model.summary()"
      ],
      "metadata": {
        "colab": {
          "base_uri": "https://localhost:8080/"
        },
        "id": "xSMYUEN6r4_k",
        "outputId": "8042de8f-84f4-4574-8f14-3acc9d85799e"
      },
      "execution_count": 13,
      "outputs": [
        {
          "output_type": "stream",
          "name": "stdout",
          "text": [
            "Model: \"sequential\"\n",
            "_________________________________________________________________\n",
            " Layer (type)                Output Shape              Param #   \n",
            "=================================================================\n",
            " dense (Dense)               (None, 64)                50240     \n",
            "                                                                 \n",
            " dense_1 (Dense)             (None, 32)                2080      \n",
            "                                                                 \n",
            " dense_2 (Dense)             (None, 10)                330       \n",
            "                                                                 \n",
            "=================================================================\n",
            "Total params: 52650 (205.66 KB)\n",
            "Trainable params: 52650 (205.66 KB)\n",
            "Non-trainable params: 0 (0.00 Byte)\n",
            "_________________________________________________________________\n"
          ]
        }
      ]
    },
    {
      "cell_type": "markdown",
      "source": [
        "###3.학습"
      ],
      "metadata": {
        "id": "sMnc3VxPsA15"
      }
    },
    {
      "cell_type": "code",
      "source": [
        "model.compile(\n",
        "    optimizer='adam',\n",
        "    loss='categorical_crossentropy',\n",
        "    metrics=['accuracy']\n",
        ")"
      ],
      "metadata": {
        "id": "co1pDbZ_ujVN"
      },
      "execution_count": 14,
      "outputs": []
    },
    {
      "cell_type": "code",
      "source": [
        "EPOCHS = 10\n",
        "BATCH_SIZE = 32\n",
        "\n",
        "history = model.fit(\n",
        "    X_train_s, y_train_o,\n",
        "    epochs = EPOCHS,\n",
        "    batch_size = BATCH_SIZE,\n",
        "    validation_data = (X_val_s, y_val_o),\n",
        "    verbose = 1\n",
        ")"
      ],
      "metadata": {
        "colab": {
          "base_uri": "https://localhost:8080/"
        },
        "id": "W44pPfS7uvdC",
        "outputId": "c98ddf42-2a63-40e8-82f3-d1035328413a"
      },
      "execution_count": 15,
      "outputs": [
        {
          "output_type": "stream",
          "name": "stdout",
          "text": [
            "Epoch 1/10\n",
            "1500/1500 [==============================] - 15s 8ms/step - loss: 0.3263 - accuracy: 0.9052 - val_loss: 0.1649 - val_accuracy: 0.9513\n",
            "Epoch 2/10\n",
            "1500/1500 [==============================] - 9s 6ms/step - loss: 0.1435 - accuracy: 0.9568 - val_loss: 0.1331 - val_accuracy: 0.9603\n",
            "Epoch 3/10\n",
            "1500/1500 [==============================] - 6s 4ms/step - loss: 0.1058 - accuracy: 0.9678 - val_loss: 0.1083 - val_accuracy: 0.9659\n",
            "Epoch 4/10\n",
            "1500/1500 [==============================] - 4s 3ms/step - loss: 0.0824 - accuracy: 0.9746 - val_loss: 0.1086 - val_accuracy: 0.9674\n",
            "Epoch 5/10\n",
            "1500/1500 [==============================] - 8s 5ms/step - loss: 0.0681 - accuracy: 0.9785 - val_loss: 0.1056 - val_accuracy: 0.9672\n",
            "Epoch 6/10\n",
            "1500/1500 [==============================] - 5s 4ms/step - loss: 0.0570 - accuracy: 0.9819 - val_loss: 0.1014 - val_accuracy: 0.9711\n",
            "Epoch 7/10\n",
            "1500/1500 [==============================] - 4s 2ms/step - loss: 0.0486 - accuracy: 0.9847 - val_loss: 0.1044 - val_accuracy: 0.9710\n",
            "Epoch 8/10\n",
            "1500/1500 [==============================] - 5s 3ms/step - loss: 0.0397 - accuracy: 0.9874 - val_loss: 0.1155 - val_accuracy: 0.9677\n",
            "Epoch 9/10\n",
            "1500/1500 [==============================] - 4s 3ms/step - loss: 0.0344 - accuracy: 0.9891 - val_loss: 0.0943 - val_accuracy: 0.9741\n",
            "Epoch 10/10\n",
            "1500/1500 [==============================] - 4s 3ms/step - loss: 0.0307 - accuracy: 0.9903 - val_loss: 0.1038 - val_accuracy: 0.9719\n"
          ]
        }
      ]
    },
    {
      "cell_type": "code",
      "source": [
        "def plot_history(history):\n",
        "    hist = pd.DataFrame(history.history)\n",
        "    hist['epoch'] = history.epoch\n",
        "\n",
        "    plt.figure(figsize=(16, 8))\n",
        "    plt.subplot(1,2,1)\n",
        "    plt.xlabel('epoch')\n",
        "    plt.ylabel('loss')\n",
        "    plt.plot(hist['epoch'], hist['loss'], label='train loss')\n",
        "    plt.plot(hist['epoch'], hist['val_loss'], label='val loss')\n",
        "    plt.legend()\n",
        "\n",
        "    plt.subplot(1,2,2)\n",
        "    plt.xlabel('epoch')\n",
        "    plt.ylabel('accuracy')\n",
        "    plt.plot(hist['epoch'], hist['accuracy'], label='train accuracy')\n",
        "    plt.plot(hist['epoch'], hist['val_accuracy'], label='val accuracy')\n",
        "    plt.legend()\n",
        "    plt.show()"
      ],
      "metadata": {
        "id": "v-YDgauavUqN"
      },
      "execution_count": 16,
      "outputs": []
    },
    {
      "cell_type": "code",
      "source": [
        " plot_history(history)"
      ],
      "metadata": {
        "colab": {
          "base_uri": "https://localhost:8080/",
          "height": 696
        },
        "id": "EgVVf5AIv-NI",
        "outputId": "42c298c7-1aef-49f7-a01b-f00eca668771"
      },
      "execution_count": 17,
      "outputs": [
        {
          "output_type": "display_data",
          "data": {
            "text/plain": [
              "<Figure size 1600x800 with 2 Axes>"
            ],
            "image/png": "[encoded data removed]"
          },
          "metadata": {}
        }
      ]
    },
    {
      "cell_type": "markdown",
      "source": [
        "### 4.평가"
      ],
      "metadata": {
        "id": "nduVgRBhwG0r"
      }
    },
    {
      "cell_type": "markdown",
      "source": [
        "- 테스트 데이터 정리\n",
        "    - 정규화\n",
        "    - 차원 변경\n",
        "    - y값 원핫인코딩"
      ],
      "metadata": {
        "id": "JIVqxtGtwUf2"
      }
    },
    {
      "cell_type": "code",
      "source": [
        "X_test_s = X_test.astype('float32')/255.\n",
        "X_test_s = X_test_s.reshape(-1, 28*28)\n",
        "\n",
        "y_test_o = to_categorical(y_test)"
      ],
      "metadata": {
        "id": "_p0XZDrTwj7M"
      },
      "execution_count": 18,
      "outputs": []
    },
    {
      "cell_type": "markdown",
      "source": [
        "### 예측"
      ],
      "metadata": {
        "id": "CjVRJHd_wyIp"
      }
    },
    {
      "cell_type": "code",
      "source": [
        "y_pred = model.predict(X_test_s)\n",
        "y_pred[:5]"
      ],
      "metadata": {
        "colab": {
          "base_uri": "https://localhost:8080/"
        },
        "id": "gdNHd4dvwz5h",
        "outputId": "9f82e532-813c-4d3b-f534-a845c7138e37"
      },
      "execution_count": 19,
      "outputs": [
        {
          "output_type": "stream",
          "name": "stdout",
          "text": [
            "313/313 [==============================] - 1s 2ms/step\n"
          ]
        },
        {
          "output_type": "execute_result",
          "data": {
            "text/plain": [
              "array([[1.12746501e-09, 1.23401928e-10, 5.78360559e-09, 1.45522963e-05,\n",
              "        1.91284738e-10, 1.85689020e-10, 8.88303039e-16, 9.99924004e-01,\n",
              "        3.06970094e-08, 6.13010052e-05],\n",
              "       [2.99601229e-15, 8.22480359e-08, 9.99999821e-01, 4.57136377e-11,\n",
              "        4.30683322e-19, 2.11306017e-17, 7.02250071e-15, 1.06725965e-14,\n",
              "        7.65967151e-14, 6.51126531e-25],\n",
              "       [2.48472620e-09, 9.99800920e-01, 1.22738402e-05, 6.62038104e-08,\n",
              "        7.67428162e-07, 1.35284306e-09, 3.63465098e-08, 1.81807700e-04,\n",
              "        3.99350529e-06, 3.58710706e-09],\n",
              "       [9.99999821e-01, 2.82856776e-14, 1.06058920e-07, 9.55660620e-11,\n",
              "        5.80947552e-16, 2.46266636e-12, 2.44805953e-08, 1.70660874e-10,\n",
              "        3.10863023e-14, 4.44014200e-11],\n",
              "       [9.45379441e-07, 1.86976172e-12, 2.22038343e-09, 1.90739077e-10,\n",
              "        9.96554434e-01, 1.70215522e-08, 4.87560348e-09, 7.41365568e-07,\n",
              "        2.65372591e-07, 3.44361225e-03]], dtype=float32)"
            ]
          },
          "metadata": {},
          "execution_count": 19
        }
      ]
    },
    {
      "cell_type": "code",
      "source": [
        "y_pred = np.argmax(y_pred,axis=1)"
      ],
      "metadata": {
        "id": "9pexGi6Gw8y0"
      },
      "execution_count": 20,
      "outputs": []
    },
    {
      "cell_type": "code",
      "source": [
        "y_test"
      ],
      "metadata": {
        "colab": {
          "base_uri": "https://localhost:8080/"
        },
        "id": "66bXX4qGxQur",
        "outputId": "37ec2ecc-eef3-4095-e59a-7e4f3b044ebe"
      },
      "execution_count": 21,
      "outputs": [
        {
          "output_type": "execute_result",
          "data": {
            "text/plain": [
              "array([7, 2, 1, ..., 4, 5, 6], dtype=uint8)"
            ]
          },
          "metadata": {},
          "execution_count": 21
        }
      ]
    },
    {
      "cell_type": "code",
      "source": [
        "from sklearn.metrics import accuracy_score, recall_score, precision_score\n",
        "\n",
        "def print_metrics(y_test, y_pred):\n",
        "  print(f'accuracy  : {accuracy_score(y_test, y_pred)}')\n",
        "  print(f'recall : {recall_score(y_test, y_pred, average=\"macro\")}')\n",
        "  print(f'precision : {precision_score(y_test, y_pred, average=\"macro\")}')"
      ],
      "metadata": {
        "id": "ZxHKImmBxSdf"
      },
      "execution_count": 22,
      "outputs": []
    },
    {
      "cell_type": "code",
      "source": [
        "print_metrics(y_test, y_pred)"
      ],
      "metadata": {
        "colab": {
          "base_uri": "https://localhost:8080/"
        },
        "id": "4wFR-CeByElX",
        "outputId": "97e96186-aaa3-4bba-af68-5fac52045d93"
      },
      "execution_count": 23,
      "outputs": [
        {
          "output_type": "stream",
          "name": "stdout",
          "text": [
            "accuracy  : 0.9739\n",
            "recall : 0.9735312869364472\n",
            "precision : 0.9740535327994142\n"
          ]
        }
      ]
    },
    {
      "cell_type": "markdown",
      "source": [
        "- 오답확인"
      ],
      "metadata": {
        "id": "XZdizAIWxYTA"
      }
    },
    {
      "cell_type": "code",
      "source": [
        "samples = np.where(y_test != y_pred)[0]\n",
        "samples = np.random.choice(samples, 9)\n",
        "samples"
      ],
      "metadata": {
        "colab": {
          "base_uri": "https://localhost:8080/"
        },
        "id": "bN2hFNIzx_dU",
        "outputId": "3d6030d3-a0bf-40f7-9c88-69eac465c1af"
      },
      "execution_count": 24,
      "outputs": [
        {
          "output_type": "execute_result",
          "data": {
            "text/plain": [
              "array([1955, 2070,  720, 4212, 5891, 3567, 4123, 1247, 6555])"
            ]
          },
          "metadata": {},
          "execution_count": 24
        }
      ]
    },
    {
      "cell_type": "markdown",
      "source": [
        "### 6. 모델 저장\n",
        "* keras 모델 형식으로 저장"
      ],
      "metadata": {
        "id": "eweKhF_izTiX"
      }
    },
    {
      "cell_type": "code",
      "source": [
        "model.save('nn-mnist-28*28-97.keras')"
      ],
      "metadata": {
        "id": "3T_LC0y9yYK_"
      },
      "execution_count": 25,
      "outputs": []
    },
    {
      "cell_type": "markdown",
      "source": [
        "* tensorflow 방식 저장"
      ],
      "metadata": {
        "id": "jtGJec1ez_bI"
      }
    },
    {
      "cell_type": "code",
      "source": [
        "model.save('my_model')"
      ],
      "metadata": {
        "id": "83ByGGbWz-3O"
      },
      "execution_count": 26,
      "outputs": []
    },
    {
      "cell_type": "markdown",
      "source": [
        "### 7. 모델 로딩"
      ],
      "metadata": {
        "id": "btJTaYd30PVP"
      }
    },
    {
      "cell_type": "code",
      "source": [
        "loaded_model = keras.models.load_model('nn-mnist-28*28-97.keras')\n",
        "loaded_model.summary()"
      ],
      "metadata": {
        "colab": {
          "base_uri": "https://localhost:8080/"
        },
        "id": "XsekcR1B0R5C",
        "outputId": "7cee87df-fd0b-4c24-d453-d8d1e65b9eca"
      },
      "execution_count": 27,
      "outputs": [
        {
          "output_type": "stream",
          "name": "stdout",
          "text": [
            "Model: \"sequential\"\n",
            "_________________________________________________________________\n",
            " Layer (type)                Output Shape              Param #   \n",
            "=================================================================\n",
            " dense (Dense)               (None, 64)                50240     \n",
            "                                                                 \n",
            " dense_1 (Dense)             (None, 32)                2080      \n",
            "                                                                 \n",
            " dense_2 (Dense)             (None, 10)                330       \n",
            "                                                                 \n",
            "=================================================================\n",
            "Total params: 52650 (205.66 KB)\n",
            "Trainable params: 52650 (205.66 KB)\n",
            "Non-trainable params: 0 (0.00 Byte)\n",
            "_________________________________________________________________\n"
          ]
        }
      ]
    }
  ]
}